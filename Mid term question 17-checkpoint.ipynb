{
 "cells": [
  {
   "cell_type": "code",
   "execution_count": 4,
   "metadata": {},
   "outputs": [
    {
     "name": "stdout",
     "output_type": "stream",
     "text": [
      "Predictions for test data:\n",
      "x = 0.3 -> predicted class: -1.0\n",
      "x = 0.5 -> predicted class: -1.0\n",
      "x = 0.7 -> predicted class: 1.0\n",
      "x = 0.9 -> predicted class: 1.0\n"
     ]
    }
   ],
   "source": [
    "import numpy as np\n",
    "# Error rates and corresponding weights\n",
    "error_rates = [0.04, 0.02, 0.01, 0.001, 0.00001]\n",
    "weights = [1 - error for error in error_rates]  \n",
    "# Calculate weights based on error rates (higher accuracy -> higher weight)\n",
    "weights = [weight / sum(weights) for weight in weights]  # Normalize weights\n",
    "\n",
    "# Classifications for each round\n",
    "classifications = {\n",
    "    \"0.1\": [-1, 1, -1, -1, -1],\n",
    "    \"0.2\": [-1, 1, -1, -1, -1],\n",
    "    \"0.3\": [-1, -1, -1, -1, 1],\n",
    "    \"0.4\": [-1, 1, 1, -1, -1],\n",
    "    \"0.5\": [-1, 1, -1, -1, 1],\n",
    "    \"0.6\": [-1, 1, 1, -1, 1],\n",
    "    \"0.7\": [1, 1, 1, -1, -1],\n",
    "    \"0.8\": [-1, 1, 1, -1, 1],\n",
    "    \"0.9\": [-1, 1, 1, 1, -1],\n",
    "    \"1.0\": [-1, 1, 1, 1, 1]\n",
    "}\n",
    "\n",
    "# Test data points\n",
    "test_data = [0.3, 0.5, 0.7, 0.9]\n",
    "\n",
    "# Function to calculate weighted vote\n",
    "def weighted_vote(classifications, x, weights):\n",
    "  votes = 0\n",
    "  for i, classifier in enumerate(classifications[str(x)]):\n",
    "    votes += classifier * weights[i]\n",
    "  return np.sign(votes)  # Predict class based on sign of weighted vote\n",
    "\n",
    "# Predictions for test data\n",
    "predictions = []\n",
    "for x in test_data:\n",
    "  prediction = weighted_vote(classifications, x, weights)\n",
    "  predictions.append(prediction)\n",
    "\n",
    "print(\"Predictions for test data:\")\n",
    "print(f\"x = 0.3 -> predicted class: {predictions[0]}\")\n",
    "print(f\"x = 0.5 -> predicted class: {predictions[1]}\")\n",
    "print(f\"x = 0.7 -> predicted class: {predictions[2]}\")\n",
    "print(f\"x = 0.9 -> predicted class: {predictions[3]}\")"
   ]
  }
 ],
 "metadata": {
  "kernelspec": {
   "display_name": "Python 3",
   "language": "python",
   "name": "python3"
  },
  "language_info": {
   "codemirror_mode": {
    "name": "ipython",
    "version": 3
   },
   "file_extension": ".py",
   "mimetype": "text/x-python",
   "name": "python",
   "nbconvert_exporter": "python",
   "pygments_lexer": "ipython3",
   "version": "3.7.4"
  }
 },
 "nbformat": 4,
 "nbformat_minor": 2
}
