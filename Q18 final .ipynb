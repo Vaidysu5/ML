{
 "cells": [
  {
   "cell_type": "code",
   "execution_count": 10,
   "metadata": {},
   "outputs": [
    {
     "name": "stdout",
     "output_type": "stream",
     "text": [
      "Shirt Size: Extra Large\n",
      "Information Gain: 0.3752\n",
      "Gain Ratio: 0.5648\n",
      "--------------------\n",
      "Shirt Size: Large\n",
      "Information Gain: 0.3752\n",
      "Gain Ratio: 0.5648\n",
      "--------------------\n",
      "Shirt Size: Medium\n",
      "Information Gain: 0.5486\n",
      "Gain Ratio: 0.6270\n",
      "--------------------\n",
      "Shirt Size: Small\n",
      "Information Gain: 0.4280\n",
      "Gain Ratio: 0.5763\n",
      "--------------------\n"
     ]
    }
   ],
   "source": [
    "import math\n",
    "\n",
    "# Data for shirt size and class (C0, C1)\n",
    "data = {\n",
    "    \"Extra Large\": [2, 2],\n",
    "    \"Large\": [2, 2],\n",
    "    \"Medium\": [3, 4],\n",
    "    \"Small\": [3, 2]\n",
    "}\n",
    "\n",
    "# total number of instances\n",
    "total_instances = sum(sum(value) for value in data.values())\n",
    "\n",
    "# entropy for the entire dataset\n",
    "def entropy(data):\n",
    "    total_positive = sum(value[1] for value in data.values())\n",
    "    total_negative = sum(value[0] for value in data.values())\n",
    "    \n",
    "    if total_positive == 0 or total_negative == 0:\n",
    "        return 0\n",
    "    \n",
    "    p_positive = total_positive / total_instances\n",
    "    p_negative = total_negative / total_instances\n",
    "    return - (p_positive * math.log2(p_positive) + p_negative * math.log2(p_negative))\n",
    "\n",
    "# information gain for a split on a particular shirt size\n",
    "def information_gain(data, shirt_size):\n",
    "    positive_values = data[shirt_size][1]\n",
    "    negative_values = data[shirt_size][0]\n",
    "    total_size_instances = sum(data[shirt_size])\n",
    "    \n",
    "    # entropy before the split\n",
    "    entropy_before = entropy(data)\n",
    "    \n",
    "    # weighted entropy after the split (for each size category)\n",
    "    weighted_entropy = 0\n",
    "    for size, values in data.items():\n",
    "        if size != shirt_size:\n",
    "            size_prob = sum(values) / total_instances\n",
    "            weighted_entropy += size_prob * entropy({size: values})\n",
    "    \n",
    "    return entropy_before - weighted_entropy\n",
    "\n",
    "# gain ratio for a split on a particular shirt size\n",
    "def gain_ratio(data, shirt_size):\n",
    "    information_gain_value = information_gain(data.copy(), shirt_size)\n",
    "    intrinsic_value = entropy({shirt_size: data[shirt_size]})\n",
    "    \n",
    "    if intrinsic_value == 0:\n",
    "        return 0\n",
    "    return information_gain_value / intrinsic_value\n",
    "\n",
    "# information gain and gain ratio for each shirt size split\n",
    "for shirt_size, values in data.items():\n",
    "    information_gain_value = information_gain(data.copy(), shirt_size)\n",
    "    gain_ratio_value = gain_ratio(data.copy(), shirt_size)\n",
    "    \n",
    "    print(f\"Shirt Size: {shirt_size}\")\n",
    "    print(f\"Information Gain: {information_gain_value:.4f}\")\n",
    "    print(f\"Gain Ratio: {gain_ratio_value:.4f}\")\n",
    "    print(\"-\" * 20)"
   ]
  }
 ],
 "metadata": {
  "kernelspec": {
   "display_name": "Python 3",
   "language": "python",
   "name": "python3"
  },
  "language_info": {
   "codemirror_mode": {
    "name": "ipython",
    "version": 3
   },
   "file_extension": ".py",
   "mimetype": "text/x-python",
   "name": "python",
   "nbconvert_exporter": "python",
   "pygments_lexer": "ipython3",
   "version": "3.7.4"
  }
 },
 "nbformat": 4,
 "nbformat_minor": 2
}
