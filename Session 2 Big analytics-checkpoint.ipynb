{
 "cells": [
  {
   "cell_type": "code",
   "execution_count": 1,
   "metadata": {},
   "outputs": [
    {
     "name": "stdout",
     "output_type": "stream",
     "text": [
      "[1. 2. 3. 4. 5.]\n",
      "#Dimensions = 1\n",
      "Dimension = (5,)\n",
      "Size = 5\n",
      "Array type = float64\n"
     ]
    }
   ],
   "source": [
    "import numpy as np\n",
    "\n",
    "oneDim = np.array([1.0,2,3,4,5])   # a 1-dimensional array (vector)\n",
    "print(oneDim)\n",
    "print(\"#Dimensions =\", oneDim.ndim)\n",
    "print(\"Dimension =\", oneDim.shape)\n",
    "print(\"Size =\", oneDim.size)\n",
    "print(\"Array type =\", oneDim.dtype)\n",
    "\n",
    "\n",
    "## we import numpy using the \"import numpy\" statement. \n",
    "## by writing as np, we are saying that we are going to call numpy as np instead of writing numpy every time. \n",
    "# np.array creates an array. To create a one dimensional array, we just write values within a list. \n",
    "# Values are separated with commas. Because one of the values is a decimal number (1.0 in this example), \n",
    "# all values will be considered as decimal number. That is why when we print, we get 1. 2. 3. and so on. \n",
    "# \"ndim\" returns the number of dimensions. In this case it is equal to 1.\n",
    "# For 1 Dimensional array, \"shape\" returns the shape of a list with only 1 element  (i.e. (n,)),\n",
    "# in this case we get (5,), 5 rows, 1 column\n",
    "# \"size\" returns the number of elements in the array. in this case it is 5.\n",
    "# dtype returns the type of the array items. Because of 1.0, they all have float64 as a type."
   ]
  },
  {
   "cell_type": "code",
   "execution_count": 2,
   "metadata": {},
   "outputs": [
    {
     "name": "stdout",
     "output_type": "stream",
     "text": [
      "[[1 2]\n",
      " [3 4]\n",
      " [5 6]\n",
      " [7 8]]\n",
      "#Dimensions = 2\n",
      "Dimension = (4, 2)\n",
      "Size = 8\n",
      "Array type = int32\n"
     ]
    }
   ],
   "source": [
    "twoDim = np.array([[1,2],[3,4],[5,6],[7,8]])  # a two-dimensional array (matrix)\n",
    "print(twoDim)\n",
    "print(\"#Dimensions =\", twoDim.ndim)\n",
    "print(\"Dimension =\", twoDim.shape)\n",
    "print(\"Size =\", twoDim.size)\n",
    "print(\"Array type =\", twoDim.dtype)\n",
    "\n",
    "# In this example we use a two dimensional array. ndim returns the number of dimensions which is 2.\n",
    "# shape returns the shape of a tuple with 2 dimensions, it is (4,2), 4 rows, 2 columns\n",
    "# size returns the number of elements in the array which is 8\n",
    "# because all elements are integer, dtype of the elements are int32."
   ]
  },
  {
   "cell_type": "code",
   "execution_count": 3,
   "metadata": {},
   "outputs": [
    {
     "name": "stdout",
     "output_type": "stream",
     "text": [
      "[['1' 'a' '3.0']\n",
      " ['2' 'b' '3.5']]\n",
      "#Dimensions = 2\n",
      "Dimension = (2, 3)\n",
      "Size = 6\n"
     ]
    }
   ],
   "source": [
    "arrFromTuple = np.array([(1,'a',3.0),(2,'b',3.5)])  # create ndarray from tuple\n",
    "print(arrFromTuple)\n",
    "print(\"#Dimensions =\", arrFromTuple.ndim)\n",
    "print(\"Dimension =\", arrFromTuple.shape)\n",
    "print(\"Size =\", arrFromTuple.size)\n",
    "\n",
    "# in this third example, we use a tuple. Because there are 2 dimensions, ndim returns 2. \n",
    "# The shape of the tuple with 2 dimensions is (2, 3), that is why shape returns (2,3), 2 rows, 3 columns\n",
    "# lastly, size returns the total number of elements which is 6."
   ]
  },
  {
   "cell_type": "code",
   "execution_count": 4,
   "metadata": {},
   "outputs": [
    {
     "name": "stdout",
     "output_type": "stream",
     "text": [
      "Array of random numbers from a uniform distribution\n",
      "[0.2735128  0.89998303 0.28205092 0.2185219  0.23264226]\n"
     ]
    }
   ],
   "source": [
    "print('Array of random numbers from a uniform distribution')\n",
    "print(np.random.rand(5))      # random numbers from a uniform distribution between [0,1]\n",
    "\n",
    "# random.rand(5) returns 5 randomly generated number from a uniform distribution between 0 and 1"
   ]
  }
 ],
 "metadata": {
  "kernelspec": {
   "display_name": "Python 3",
   "language": "python",
   "name": "python3"
  },
  "language_info": {
   "codemirror_mode": {
    "name": "ipython",
    "version": 3
   },
   "file_extension": ".py",
   "mimetype": "text/x-python",
   "name": "python",
   "nbconvert_exporter": "python",
   "pygments_lexer": "ipython3",
   "version": "3.7.4"
  }
 },
 "nbformat": 4,
 "nbformat_minor": 2
}
