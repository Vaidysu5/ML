{
 "cells": [
  {
   "cell_type": "code",
   "execution_count": 27,
   "metadata": {},
   "outputs": [
    {
     "name": "stdout",
     "output_type": "stream",
     "text": [
      "Enter a CODE (either 1 or 2 or 7) to print Hello World (1) or Hi There!(2) or 11 times 7:7\n",
      "11 times 7\n"
     ]
    }
   ],
   "source": [
    "pr_code = int(input(\"Enter a CODE (either 1 or 2 or 7) to print Hello World (1) or Hi There!(2) or 11 times 7:\"))\n",
    "if(pr_code == 1): \n",
    "    print(\"HELLO WORLD!!\")\n",
    "if(pr_code == 2):\n",
    "        print(\"Hi There!\")\n",
    "if(pr_code == 7):\n",
    "        print(\"11 times 7\")\n"
   ]
  },
  {
   "cell_type": "code",
   "execution_count": null,
   "metadata": {},
   "outputs": [],
   "source": []
  },
  {
   "cell_type": "code",
   "execution_count": null,
   "metadata": {},
   "outputs": [],
   "source": []
  }
 ],
 "metadata": {
  "kernelspec": {
   "display_name": "Python 3",
   "language": "python",
   "name": "python3"
  },
  "language_info": {
   "codemirror_mode": {
    "name": "ipython",
    "version": 3
   },
   "file_extension": ".py",
   "mimetype": "text/x-python",
   "name": "python",
   "nbconvert_exporter": "python",
   "pygments_lexer": "ipython3",
   "version": "3.7.4"
  }
 },
 "nbformat": 4,
 "nbformat_minor": 5
}
