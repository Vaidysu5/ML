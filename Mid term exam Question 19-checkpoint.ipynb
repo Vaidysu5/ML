{
 "cells": [
  {
   "cell_type": "code",
   "execution_count": 1,
   "metadata": {},
   "outputs": [
    {
     "name": "stdout",
     "output_type": "stream",
     "text": [
      "Predicted Class (Healthy): yes\n",
      "Posterior Probabilities:\n",
      "  - yes: 0.0036\n",
      "  - no: 0.0001\n"
     ]
    }
   ],
   "source": [
    "data = [\n",
    "    {\"cattle_type\": \"simmental\", \"height\": 80, \"weight\": 80, \"parent_illness\": \"false\", \"healthy\": \"no\"},\n",
    "    {\"cattle_type\": \"simmental\", \"height\": 75, \"weight\": 85, \"parent_illness\": \"true\", \"healthy\": \"no\"},\n",
    "    {\"cattle_type\": \"galloway\", \"height\": 78, \"weight\": 81, \"parent_illness\": \"false\", \"healthy\": \"yes\"},\n",
    "    {\"cattle_type\": \"hereford\", \"height\": 65, \"weight\": 91, \"parent_illness\": \"false\", \"healthy\": \"yes\"},\n",
    "    {\"cattle_type\": \"hereford\", \"height\": 63, \"weight\": 75, \"parent_illness\": \"false\", \"healthy\": \"yes\"},\n",
    "    {\"cattle_type\": \"hereford\", \"height\": 60, \"weight\": 65, \"parent_illness\": \"true\", \"healthy\": \"no\"},\n",
    "    {\"cattle_type\": \"galloway\", \"height\": 59, \"weight\": 60, \"parent_illness\": \"true\", \"healthy\": \"yes\"},\n",
    "    {\"cattle_type\": \"simmental\", \"height\": 67, \"weight\": 90, \"parent_illness\": \"false\", \"healthy\": \"no\"},\n",
    "    {\"cattle_type\": \"simmental\", \"height\": 64, \"weight\": 65, \"parent_illness\": \"false\", \"healthy\": \"yes\"},\n",
    "    {\"cattle_type\": \"hereford\", \"height\": 70, \"weight\": 75, \"parent_illness\": \"false\", \"healthy\": \"yes\"},\n",
    "    {\"cattle_type\": \"simmental\", \"height\": 70, \"weight\": 65, \"parent_illness\": \"true\", \"healthy\": \"yes\"},\n",
    "    {\"cattle_type\": \"galloway\", \"height\": 67, \"weight\": 85, \"parent_illness\": \"true\", \"healthy\": \"no\"},\n",
    "    {\"cattle_type\": \"galloway\", \"height\": 76, \"weight\": 70, \"parent_illness\": \"false\", \"healthy\": \"yes\"},\n",
    "    {\"cattle_type\": \"hereford\", \"height\": 66, \"weight\": 76, \"parent_illness\": \"true\", \"healthy\": \"no\"},\n",
    "   \n",
    "    \n",
    "]\n",
    "\n",
    "# New Cattle to predict\n",
    "new_cattle = {\"cattle_type\": \"galloway\", \"height\": 70, \"weight\": 75, \"parent_illness\": \"false\"}\n",
    "\n",
    "def calculate_class_probability(data, class_value, attribute_name, attribute_value):\n",
    "  \n",
    "  class_count = sum(1 for row in data if row[\"healthy\"] == class_value)\n",
    "  filtered_data = [row for row in data if row[attribute_name] == attribute_value]\n",
    "  filtered_class_count = sum(1 for row in filtered_data if row[\"healthy\"] == class_value)\n",
    "  return (filtered_class_count + 1) / (class_count + len(set(row[attribute_name] for row in data)))\n",
    "\n",
    "def calculate_posterior_probability(data, new_example):\n",
    "  \n",
    "  class_probabilities = {}\n",
    "  for class_value in [\"yes\", \"no\"]:\n",
    "    # prior probability (probability of the class)\n",
    "    prior_probability = sum(1 for row in data if row[\"healthy\"] == class_value) / len(data)\n",
    "    # Calculate likelihood for each attribute\n",
    "    likelihood = 1.0\n",
    "    for attribute, value in new_example.items():\n",
    "      if attribute != \"healthy\":\n",
    "        likelihood *= calculate_class_probability(data, class_value, attribute, value)\n",
    "    # posterior probability (considering both prior and likelihood)\n",
    "    posterior_probability = prior_probability * likelihood\n",
    "    class_probabilities[class_value] = posterior_probability\n",
    "  return class_probabilities\n",
    "\n",
    "# posterior probabilities for new cattle\n",
    "posterior_probabilities = calculate_posterior_probability(data, new_cattle)\n",
    "\n",
    "# highest posterior probability\n",
    "predicted_class = max(posterior_probabilities, key=posterior_probabilities.get)\n",
    "\n",
    "# Results\n",
    "print(f\"Predicted Class (Healthy): {predicted_class}\")\n",
    "print(f\"Posterior Probabilities:\")\n",
    "for class_value, probability in posterior_probabilities.items():\n",
    "  print(f\"  - {class_value}: {probability:.4f}\")"
   ]
  }
 ],
 "metadata": {
  "kernelspec": {
   "display_name": "Python 3",
   "language": "python",
   "name": "python3"
  },
  "language_info": {
   "codemirror_mode": {
    "name": "ipython",
    "version": 3
   },
   "file_extension": ".py",
   "mimetype": "text/x-python",
   "name": "python",
   "nbconvert_exporter": "python",
   "pygments_lexer": "ipython3",
   "version": "3.7.4"
  }
 },
 "nbformat": 4,
 "nbformat_minor": 2
}
