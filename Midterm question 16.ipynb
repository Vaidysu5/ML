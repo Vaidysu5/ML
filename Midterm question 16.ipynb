{
 "cells": [
  {
   "cell_type": "code",
   "execution_count": 1,
   "metadata": {},
   "outputs": [
    {
     "name": "stdout",
     "output_type": "stream",
     "text": [
      "Probabilities of each point being chosen as the third centroid:\n",
      "Point 1: 0.1118\n",
      "Point 2: 0.1576\n",
      "Point 3: 0.1982\n",
      "Point 4: 0.2124\n",
      "Point 5: 0.1118\n",
      "Point 6: 0.2082\n"
     ]
    }
   ],
   "source": [
    "import numpy as np\n",
    "\n",
    "# Distance function\n",
    "def distance(p1, p2):\n",
    "  return np.linalg.norm(p1 - p2)\n",
    "\n",
    "# Data points\n",
    "points = np.array([\n",
    "    [0, 0.24, 0.22, 0.37, 0.34, 0.23],\n",
    "    [0.24, 0, 0.15, 0.20, 0.14, 0.25],\n",
    "    [0.22, 0.15, 0.00, 0.15, 0.28, 0.11],\n",
    "    [0.37, 0.2, 0.15, 0.00, 0.29, 0.22], \n",
    "    [0.34, 0.14, 0.28, 0.29, 0.00, 0.39],\n",
    "    [0.23, 0.25, 0.11, 0.22, 0.39, 0.00]\n",
    "])\n",
    " \n",
    "centroid1 = points[4]  # p5\n",
    "centroid2 = points[0]  # p1\n",
    "\n",
    "distances = np.array([distance(p, centroid1) for p in points]) + np.array([distance(p, centroid2) for p in points])\n",
    "probabilities = distances / distances.sum()\n",
    "\n",
    "print(\"Probabilities of each point being chosen as the third centroid:\")\n",
    "for i, p in enumerate(points):\n",
    "  print(f\"Point {i+1}: {probabilities[i]:.4f}\")\n"
   ]
  },
  {
   "cell_type": "code",
   "execution_count": 2,
   "metadata": {},
   "outputs": [
    {
     "name": "stdout",
     "output_type": "stream",
     "text": [
      "\n",
      "Most likely point to be chosen as the third centroid:\n",
      "Point 4\n"
     ]
    }
   ],
   "source": [
    "most_likely_point = np.argmax(probabilities)\n",
    "\n",
    "print(\"\\nMost likely point to be chosen as the third centroid:\")\n",
    "print(f\"Point {most_likely_point+1}\")"
   ]
  }
 ],
 "metadata": {
  "kernelspec": {
   "display_name": "Python 3",
   "language": "python",
   "name": "python3"
  },
  "language_info": {
   "codemirror_mode": {
    "name": "ipython",
    "version": 3
   },
   "file_extension": ".py",
   "mimetype": "text/x-python",
   "name": "python",
   "nbconvert_exporter": "python",
   "pygments_lexer": "ipython3",
   "version": "3.7.4"
  }
 },
 "nbformat": 4,
 "nbformat_minor": 2
}
