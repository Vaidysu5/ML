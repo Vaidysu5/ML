{
 "cells": [
  {
   "cell_type": "code",
   "execution_count": 8,
   "metadata": {},
   "outputs": [
    {
     "ename": "ValueError",
     "evalue": "invalid literal for int() with base 10: 'Neigh_ID,Population,xcoord,ycoord,numfires\\n'",
     "output_type": "error",
     "traceback": [
      "\u001b[1;31m---------------------------------------------------------------------------\u001b[0m",
      "\u001b[1;31mValueError\u001b[0m                                Traceback (most recent call last)",
      "Cell \u001b[1;32mIn[8], line 12\u001b[0m\n\u001b[0;32m     10\u001b[0m line\u001b[38;5;241m.\u001b[39mrstrip()\n\u001b[0;32m     11\u001b[0m parts \u001b[38;5;241m=\u001b[39m line\u001b[38;5;241m.\u001b[39msplit(\u001b[38;5;124m'\u001b[39m\u001b[38;5;124m\t\u001b[39m\u001b[38;5;124m'\u001b[39m)\n\u001b[1;32m---> 12\u001b[0m cur_Neigh_ID \u001b[38;5;241m=\u001b[39m \u001b[38;5;28mint\u001b[39m(parts[\u001b[38;5;241m0\u001b[39m])\n\u001b[0;32m     13\u001b[0m cur_Population \u001b[38;5;241m=\u001b[39m \u001b[38;5;28mint\u001b[39m(parts[\u001b[38;5;241m1\u001b[39m])\n\u001b[0;32m     14\u001b[0m cur_xcoord \u001b[38;5;241m=\u001b[39m \u001b[38;5;28mfloat\u001b[39m(parts[\u001b[38;5;241m2\u001b[39m])\n",
      "\u001b[1;31mValueError\u001b[0m: invalid literal for int() with base 10: 'Neigh_ID,Population,xcoord,ycoord,numfires\\n'"
     ]
    }
   ],
   "source": [
    "Neighborhoods=[[0,0,0,0,0]]\n",
    "tot_pop = 0\n",
    "tot_X = 0\n",
    "tot_Y = 0\n",
    "tot_inc_num = 0\n",
    "neighborhoods_count = 0\n",
    "\n",
    "F1 = open('Neigh-node-pops-v2.csv')\n",
    "for line in F1:\n",
    "\tline.rstrip()\n",
    "\tparts = line.split('\t')\n",
    "\tcur_Neigh_ID = int(parts[0])\n",
    "\tcur_Population = int(parts[1])\n",
    "\tcur_xcoord = float(parts[2])\n",
    "\tcur_ycoord = float(parts[3]) \n",
    "\tcur_numfires = float(parts[4])\n",
    "\tcur_neigh = [cur_Neigh_ID,cur_Population,cur_xcoord,cur_ycoord,cur_numfires]\n",
    "\t\n",
    "\tif(cur_pop >= 0):\n",
    "\t\tNeighborhoods.append(cur_neigh)\n",
    "\t\t# compute the totals statistics for all neighborhoods satisfying condition\n",
    "\t\tneighborhoods_count = neighborhoods_count + 1\n",
    "\t\ttot_pop = tot_pop + cur_pop\n",
    "\t\ttot_X = tot_X + cur_X\n",
    "\t\ttot_Y = tot_Y + cur_Y\n",
    "\t\ttot_inc_num = tot_inc_num + cur_inc_num\n",
    "\t\n",
    "# compute the average for all neighborhoods\n",
    "print(\"Total number of neighborhoods = \", neighborhoods_count)\n",
    "print(\"Average neighborhood population = \", tot_pop/neighborhoods_count)\n",
    "\n",
    "neigh_code = int(input(\"Enter an INTEGER neighborhood Id (1 to 155, please):\"))\n",
    "print(\"Statistics for neighborhood \",neigh_code,\"  \",Neighborhoods[neigh_code]) \n",
    "print(\"Printing ONLY this neighborhood's population now...\")\n",
    "print(Neighborhoods[neigh_code][1])\n",
    "print(\"Printing ONLY this neighborhood's ID now...\")\n",
    "print(Neighborhoods[neigh_code][0])\n",
    "print(\"Printing total length of list constructed from neighborhoods = \", len(Neighborhoods))\n",
    "print(\"First element in Neighborhoods list = \",Neighborhoods[0])\n",
    "\n",
    "\t\n",
    "\t\n",
    "\t\n",
    "\n",
    "\n"
   ]
  },
  {
   "cell_type": "code",
   "execution_count": 1,
   "metadata": {},
   "outputs": [
    {
     "name": "stdout",
     "output_type": "stream",
     "text": [
      "2644280\n"
     ]
    }
   ],
   "source": [
    "def F(N, K): \n",
    "\tsum = 0\n",
    "\tfor i in range(1, N + 1): \n",
    "\t\tsum = sum + (i % K) \n",
    "\treturn sum\n",
    "\n",
    "N = 123000\n",
    "K = 44\n",
    "\n",
    "print(F(N, K))\n"
   ]
  },
  {
   "cell_type": "code",
   "execution_count": null,
   "metadata": {},
   "outputs": [],
   "source": []
  }
 ],
 "metadata": {
  "kernelspec": {
   "display_name": "Python 3",
   "language": "python",
   "name": "python3"
  },
  "language_info": {
   "codemirror_mode": {
    "name": "ipython",
    "version": 3
   },
   "file_extension": ".py",
   "mimetype": "text/x-python",
   "name": "python",
   "nbconvert_exporter": "python",
   "pygments_lexer": "ipython3",
   "version": "3.7.4"
  }
 },
 "nbformat": 4,
 "nbformat_minor": 5
}
