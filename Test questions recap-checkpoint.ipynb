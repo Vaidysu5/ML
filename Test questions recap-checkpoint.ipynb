{
 "cells": [
  {
   "cell_type": "code",
   "execution_count": 2,
   "metadata": {},
   "outputs": [],
   "source": [
    "\n",
    "\n",
    "import pandas as pd\n",
    "import numpy as np\n",
    "import matplotlib as plt\n",
    "\n",
    "\n",
    "\n"
   ]
  },
  {
   "cell_type": "code",
   "execution_count": null,
   "metadata": {},
   "outputs": [],
   "source": []
  },
  {
   "cell_type": "code",
   "execution_count": null,
   "metadata": {},
   "outputs": [],
   "source": []
  },
  {
   "cell_type": "code",
   "execution_count": 10,
   "metadata": {},
   "outputs": [
    {
     "name": "stdout",
     "output_type": "stream",
     "text": [
      "2644280\n"
     ]
    }
   ],
   "source": [
    "def F(N, K): \n",
    "\tsum = 0\n",
    "\tfor i in range(1, N + 1): \n",
    "\t\tsum = sum + (i % K) \n",
    "\treturn sum\n",
    "\n",
    "N = 123000\n",
    "K = 44\n",
    "\n",
    "print(F(N, K))\n"
   ]
  },
  {
   "cell_type": "code",
   "execution_count": 3,
   "metadata": {},
   "outputs": [],
   "source": [
    "df_neigh = pd.read_csv(\"Neigh-node-pops-v2.csv\")"
   ]
  },
  {
   "cell_type": "code",
   "execution_count": 4,
   "metadata": {},
   "outputs": [
    {
     "data": {
      "text/plain": [
       "(155, 5)"
      ]
     },
     "execution_count": 4,
     "metadata": {},
     "output_type": "execute_result"
    }
   ],
   "source": [
    "df_neigh.shape"
   ]
  },
  {
   "cell_type": "code",
   "execution_count": 34,
   "metadata": {},
   "outputs": [],
   "source": [
    "df_TEST1 = pd.read_csv(\"TEST1-PANDAS-NUMPY.csv\")"
   ]
  },
  {
   "cell_type": "code",
   "execution_count": 21,
   "metadata": {},
   "outputs": [
    {
     "data": {
      "text/plain": [
       "(2355, 13)"
      ]
     },
     "execution_count": 21,
     "metadata": {},
     "output_type": "execute_result"
    }
   ],
   "source": [
    "df_TEST1.shape"
   ]
  },
  {
   "cell_type": "code",
   "execution_count": 35,
   "metadata": {},
   "outputs": [
    {
     "data": {
      "text/html": [
       "<div>\n",
       "<style scoped>\n",
       "    .dataframe tbody tr th:only-of-type {\n",
       "        vertical-align: middle;\n",
       "    }\n",
       "\n",
       "    .dataframe tbody tr th {\n",
       "        vertical-align: top;\n",
       "    }\n",
       "\n",
       "    .dataframe thead th {\n",
       "        text-align: right;\n",
       "    }\n",
       "</style>\n",
       "<table border=\"1\" class=\"dataframe\">\n",
       "  <thead>\n",
       "    <tr style=\"text-align: right;\">\n",
       "      <th></th>\n",
       "      <th>Neigh_ID</th>\n",
       "      <th>Population</th>\n",
       "      <th>xcoord</th>\n",
       "      <th>ycoord</th>\n",
       "      <th>numfires</th>\n",
       "    </tr>\n",
       "  </thead>\n",
       "  <tbody>\n",
       "    <tr>\n",
       "      <th>0</th>\n",
       "      <td>1</td>\n",
       "      <td>6186</td>\n",
       "      <td>515.04318</td>\n",
       "      <td>47.968746</td>\n",
       "      <td>222.097598</td>\n",
       "    </tr>\n",
       "    <tr>\n",
       "      <th>1</th>\n",
       "      <td>2</td>\n",
       "      <td>31313</td>\n",
       "      <td>516.27814</td>\n",
       "      <td>54.638645</td>\n",
       "      <td>1124.238941</td>\n",
       "    </tr>\n",
       "    <tr>\n",
       "      <th>2</th>\n",
       "      <td>3</td>\n",
       "      <td>13168</td>\n",
       "      <td>509.23059</td>\n",
       "      <td>53.152314</td>\n",
       "      <td>472.774195</td>\n",
       "    </tr>\n",
       "    <tr>\n",
       "      <th>3</th>\n",
       "      <td>4</td>\n",
       "      <td>9482</td>\n",
       "      <td>507.40509</td>\n",
       "      <td>52.863872</td>\n",
       "      <td>340.434760</td>\n",
       "    </tr>\n",
       "    <tr>\n",
       "      <th>4</th>\n",
       "      <td>5</td>\n",
       "      <td>10099</td>\n",
       "      <td>508.60841</td>\n",
       "      <td>49.144346</td>\n",
       "      <td>362.587075</td>\n",
       "    </tr>\n",
       "  </tbody>\n",
       "</table>\n",
       "</div>"
      ],
      "text/plain": [
       "   Neigh_ID  Population     xcoord     ycoord     numfires\n",
       "0         1        6186  515.04318  47.968746   222.097598\n",
       "1         2       31313  516.27814  54.638645  1124.238941\n",
       "2         3       13168  509.23059  53.152314   472.774195\n",
       "3         4        9482  507.40509  52.863872   340.434760\n",
       "4         5       10099  508.60841  49.144346   362.587075"
      ]
     },
     "execution_count": 35,
     "metadata": {},
     "output_type": "execute_result"
    }
   ],
   "source": [
    "df_neigh.head(5)"
   ]
  },
  {
   "cell_type": "code",
   "execution_count": 9,
   "metadata": {},
   "outputs": [
    {
     "data": {
      "text/html": [
       "<div>\n",
       "<style scoped>\n",
       "    .dataframe tbody tr th:only-of-type {\n",
       "        vertical-align: middle;\n",
       "    }\n",
       "\n",
       "    .dataframe tbody tr th {\n",
       "        vertical-align: top;\n",
       "    }\n",
       "\n",
       "    .dataframe thead th {\n",
       "        text-align: right;\n",
       "    }\n",
       "</style>\n",
       "<table border=\"1\" class=\"dataframe\">\n",
       "  <thead>\n",
       "    <tr style=\"text-align: right;\">\n",
       "      <th></th>\n",
       "      <th>Plan_Number_ID</th>\n",
       "      <th>polsby</th>\n",
       "      <th>momi</th>\n",
       "      <th>schwar</th>\n",
       "      <th>reock</th>\n",
       "      <th>convex</th>\n",
       "      <th>Pop_dev</th>\n",
       "      <th>Pop_max</th>\n",
       "      <th>Pop_min</th>\n",
       "      <th>Max_dev</th>\n",
       "      <th>Sum_dev</th>\n",
       "      <th>Wt_dev</th>\n",
       "      <th>Num_splits</th>\n",
       "    </tr>\n",
       "  </thead>\n",
       "  <tbody>\n",
       "    <tr>\n",
       "      <th>0</th>\n",
       "      <td>0</td>\n",
       "      <td>0.174606</td>\n",
       "      <td>0.721649</td>\n",
       "      <td>0.411504</td>\n",
       "      <td>0.433082</td>\n",
       "      <td>0.716154</td>\n",
       "      <td>8823</td>\n",
       "      <td>756754</td>\n",
       "      <td>747931</td>\n",
       "      <td>4451.647059</td>\n",
       "      <td>46903.64706</td>\n",
       "      <td>2759.510024</td>\n",
       "      <td>68</td>\n",
       "    </tr>\n",
       "    <tr>\n",
       "      <th>1</th>\n",
       "      <td>28</td>\n",
       "      <td>0.155564</td>\n",
       "      <td>0.718035</td>\n",
       "      <td>0.387776</td>\n",
       "      <td>0.413312</td>\n",
       "      <td>0.690476</td>\n",
       "      <td>11787</td>\n",
       "      <td>759252</td>\n",
       "      <td>747465</td>\n",
       "      <td>6869.352941</td>\n",
       "      <td>51630.23529</td>\n",
       "      <td>3040.585459</td>\n",
       "      <td>62</td>\n",
       "    </tr>\n",
       "    <tr>\n",
       "      <th>2</th>\n",
       "      <td>29</td>\n",
       "      <td>0.162915</td>\n",
       "      <td>0.729030</td>\n",
       "      <td>0.395732</td>\n",
       "      <td>0.434117</td>\n",
       "      <td>0.707680</td>\n",
       "      <td>11264</td>\n",
       "      <td>758482</td>\n",
       "      <td>747218</td>\n",
       "      <td>6099.352941</td>\n",
       "      <td>51521.64706</td>\n",
       "      <td>3033.002176</td>\n",
       "      <td>66</td>\n",
       "    </tr>\n",
       "    <tr>\n",
       "      <th>3</th>\n",
       "      <td>30</td>\n",
       "      <td>0.163654</td>\n",
       "      <td>0.702964</td>\n",
       "      <td>0.401350</td>\n",
       "      <td>0.403099</td>\n",
       "      <td>0.697137</td>\n",
       "      <td>11934</td>\n",
       "      <td>758751</td>\n",
       "      <td>746817</td>\n",
       "      <td>6368.352941</td>\n",
       "      <td>45930.35294</td>\n",
       "      <td>2702.430530</td>\n",
       "      <td>64</td>\n",
       "    </tr>\n",
       "    <tr>\n",
       "      <th>4</th>\n",
       "      <td>31</td>\n",
       "      <td>0.167260</td>\n",
       "      <td>0.693758</td>\n",
       "      <td>0.405025</td>\n",
       "      <td>0.413943</td>\n",
       "      <td>0.710129</td>\n",
       "      <td>12621</td>\n",
       "      <td>757586</td>\n",
       "      <td>744965</td>\n",
       "      <td>7417.647059</td>\n",
       "      <td>37156.47059</td>\n",
       "      <td>2183.548066</td>\n",
       "      <td>65</td>\n",
       "    </tr>\n",
       "    <tr>\n",
       "      <th>5</th>\n",
       "      <td>32</td>\n",
       "      <td>0.154607</td>\n",
       "      <td>0.694839</td>\n",
       "      <td>0.383642</td>\n",
       "      <td>0.391637</td>\n",
       "      <td>0.688231</td>\n",
       "      <td>14262</td>\n",
       "      <td>759319</td>\n",
       "      <td>745057</td>\n",
       "      <td>7325.647059</td>\n",
       "      <td>43713.76471</td>\n",
       "      <td>2569.887056</td>\n",
       "      <td>67</td>\n",
       "    </tr>\n",
       "    <tr>\n",
       "      <th>6</th>\n",
       "      <td>37</td>\n",
       "      <td>0.169158</td>\n",
       "      <td>0.733449</td>\n",
       "      <td>0.402294</td>\n",
       "      <td>0.415135</td>\n",
       "      <td>0.716334</td>\n",
       "      <td>14078</td>\n",
       "      <td>759391</td>\n",
       "      <td>745313</td>\n",
       "      <td>7069.647059</td>\n",
       "      <td>48997.64706</td>\n",
       "      <td>2883.923838</td>\n",
       "      <td>68</td>\n",
       "    </tr>\n",
       "    <tr>\n",
       "      <th>7</th>\n",
       "      <td>42</td>\n",
       "      <td>0.167264</td>\n",
       "      <td>0.711484</td>\n",
       "      <td>0.405501</td>\n",
       "      <td>0.418692</td>\n",
       "      <td>0.707219</td>\n",
       "      <td>12044</td>\n",
       "      <td>758739</td>\n",
       "      <td>746695</td>\n",
       "      <td>6356.352941</td>\n",
       "      <td>54165.64706</td>\n",
       "      <td>3187.102643</td>\n",
       "      <td>69</td>\n",
       "    </tr>\n",
       "    <tr>\n",
       "      <th>8</th>\n",
       "      <td>48</td>\n",
       "      <td>0.189661</td>\n",
       "      <td>0.730967</td>\n",
       "      <td>0.429764</td>\n",
       "      <td>0.433543</td>\n",
       "      <td>0.743427</td>\n",
       "      <td>14283</td>\n",
       "      <td>759872</td>\n",
       "      <td>745589</td>\n",
       "      <td>7489.352941</td>\n",
       "      <td>52766.35294</td>\n",
       "      <td>3104.209755</td>\n",
       "      <td>54</td>\n",
       "    </tr>\n",
       "    <tr>\n",
       "      <th>9</th>\n",
       "      <td>49</td>\n",
       "      <td>0.171614</td>\n",
       "      <td>0.715919</td>\n",
       "      <td>0.408817</td>\n",
       "      <td>0.409695</td>\n",
       "      <td>0.722811</td>\n",
       "      <td>12376</td>\n",
       "      <td>758947</td>\n",
       "      <td>746571</td>\n",
       "      <td>6564.352941</td>\n",
       "      <td>46400.35294</td>\n",
       "      <td>2730.165408</td>\n",
       "      <td>60</td>\n",
       "    </tr>\n",
       "    <tr>\n",
       "      <th>10</th>\n",
       "      <td>50</td>\n",
       "      <td>0.173600</td>\n",
       "      <td>0.705378</td>\n",
       "      <td>0.411533</td>\n",
       "      <td>0.382172</td>\n",
       "      <td>0.712341</td>\n",
       "      <td>10921</td>\n",
       "      <td>756648</td>\n",
       "      <td>745727</td>\n",
       "      <td>6655.647059</td>\n",
       "      <td>40525.76471</td>\n",
       "      <td>2380.304820</td>\n",
       "      <td>61</td>\n",
       "    </tr>\n",
       "    <tr>\n",
       "      <th>11</th>\n",
       "      <td>51</td>\n",
       "      <td>0.162664</td>\n",
       "      <td>0.711941</td>\n",
       "      <td>0.394621</td>\n",
       "      <td>0.410738</td>\n",
       "      <td>0.704256</td>\n",
       "      <td>9356</td>\n",
       "      <td>757564</td>\n",
       "      <td>748208</td>\n",
       "      <td>5181.352941</td>\n",
       "      <td>44448.23529</td>\n",
       "      <td>2616.786252</td>\n",
       "      <td>67</td>\n",
       "    </tr>\n",
       "    <tr>\n",
       "      <th>12</th>\n",
       "      <td>52</td>\n",
       "      <td>0.160568</td>\n",
       "      <td>0.712694</td>\n",
       "      <td>0.394283</td>\n",
       "      <td>0.417287</td>\n",
       "      <td>0.702184</td>\n",
       "      <td>10565</td>\n",
       "      <td>758162</td>\n",
       "      <td>747597</td>\n",
       "      <td>5779.352941</td>\n",
       "      <td>43154.35294</td>\n",
       "      <td>2539.040720</td>\n",
       "      <td>65</td>\n",
       "    </tr>\n",
       "  </tbody>\n",
       "</table>\n",
       "</div>"
      ],
      "text/plain": [
       "    Plan_Number_ID    polsby      momi    schwar     reock    convex  Pop_dev  \\\n",
       "0                0  0.174606  0.721649  0.411504  0.433082  0.716154     8823   \n",
       "1               28  0.155564  0.718035  0.387776  0.413312  0.690476    11787   \n",
       "2               29  0.162915  0.729030  0.395732  0.434117  0.707680    11264   \n",
       "3               30  0.163654  0.702964  0.401350  0.403099  0.697137    11934   \n",
       "4               31  0.167260  0.693758  0.405025  0.413943  0.710129    12621   \n",
       "5               32  0.154607  0.694839  0.383642  0.391637  0.688231    14262   \n",
       "6               37  0.169158  0.733449  0.402294  0.415135  0.716334    14078   \n",
       "7               42  0.167264  0.711484  0.405501  0.418692  0.707219    12044   \n",
       "8               48  0.189661  0.730967  0.429764  0.433543  0.743427    14283   \n",
       "9               49  0.171614  0.715919  0.408817  0.409695  0.722811    12376   \n",
       "10              50  0.173600  0.705378  0.411533  0.382172  0.712341    10921   \n",
       "11              51  0.162664  0.711941  0.394621  0.410738  0.704256     9356   \n",
       "12              52  0.160568  0.712694  0.394283  0.417287  0.702184    10565   \n",
       "\n",
       "    Pop_max  Pop_min      Max_dev      Sum_dev       Wt_dev  Num_splits  \n",
       "0    756754   747931  4451.647059  46903.64706  2759.510024          68  \n",
       "1    759252   747465  6869.352941  51630.23529  3040.585459          62  \n",
       "2    758482   747218  6099.352941  51521.64706  3033.002176          66  \n",
       "3    758751   746817  6368.352941  45930.35294  2702.430530          64  \n",
       "4    757586   744965  7417.647059  37156.47059  2183.548066          65  \n",
       "5    759319   745057  7325.647059  43713.76471  2569.887056          67  \n",
       "6    759391   745313  7069.647059  48997.64706  2883.923838          68  \n",
       "7    758739   746695  6356.352941  54165.64706  3187.102643          69  \n",
       "8    759872   745589  7489.352941  52766.35294  3104.209755          54  \n",
       "9    758947   746571  6564.352941  46400.35294  2730.165408          60  \n",
       "10   756648   745727  6655.647059  40525.76471  2380.304820          61  \n",
       "11   757564   748208  5181.352941  44448.23529  2616.786252          67  \n",
       "12   758162   747597  5779.352941  43154.35294  2539.040720          65  "
      ]
     },
     "execution_count": 9,
     "metadata": {},
     "output_type": "execute_result"
    }
   ],
   "source": [
    "df_TEST1.head(13)"
   ]
  },
  {
   "cell_type": "code",
   "execution_count": 39,
   "metadata": {},
   "outputs": [
    {
     "data": {
      "text/plain": [
       "<Axes: ylabel='Frequency'>"
      ]
     },
     "execution_count": 39,
     "metadata": {},
     "output_type": "execute_result"
    },
    {
     "data": {
      "image/png": "[encoded data removed]",
      "text/plain": [
       "<Figure size 640x480 with 1 Axes>"
      ]
     },
     "metadata": {},
     "output_type": "display_data"
    }
   ],
   "source": [
    "df_neigh['Population'].plot.hist(bins=5)"
   ]
  },
  {
   "cell_type": "code",
   "execution_count": 5,
   "metadata": {},
   "outputs": [
    {
     "data": {
      "text/plain": [
       "1517550"
      ]
     },
     "execution_count": 5,
     "metadata": {},
     "output_type": "execute_result"
    }
   ],
   "source": [
    "df_neigh['Population'].sum()"
   ]
  },
  {
   "cell_type": "code",
   "execution_count": 6,
   "metadata": {},
   "outputs": [
    {
     "data": {
      "text/plain": [
       "9790.645161290322"
      ]
     },
     "execution_count": 6,
     "metadata": {},
     "output_type": "execute_result"
    }
   ],
   "source": [
    "df_neigh['Population'].mean()"
   ]
  },
  {
   "cell_type": "code",
   "execution_count": 15,
   "metadata": {},
   "outputs": [
    {
     "data": {
      "text/plain": [
       "4165.9"
      ]
     },
     "execution_count": 15,
     "metadata": {},
     "output_type": "execute_result"
    }
   ],
   "source": [
    "df_neigh['Population'].quantile(.35)"
   ]
  },
  {
   "cell_type": "code",
   "execution_count": 4,
   "metadata": {},
   "outputs": [
    {
     "data": {
      "text/plain": [
       "45.771821688"
      ]
     },
     "execution_count": 4,
     "metadata": {},
     "output_type": "execute_result"
    }
   ],
   "source": [
    "df_neigh['ycoord'].quantile(.35)"
   ]
  },
  {
   "cell_type": "code",
   "execution_count": 5,
   "metadata": {},
   "outputs": [
    {
     "data": {
      "text/plain": [
       "10426.54347826087"
      ]
     },
     "execution_count": 5,
     "metadata": {},
     "output_type": "execute_result"
    }
   ],
   "source": [
    "MIN_POP=1743\n",
    "MAX_XCOORD= 511.53968\n",
    "MAX_YCOORD= 45.771821688\n",
    "df_filtered = df_neigh[df_neigh['Population']>= MIN_POP]\n",
    "df_filtered2= df_filtered[df_filtered['xcoord']<= MAX_XCOORD]\n",
    "df_filtered3= df_filtered2[df_filtered2['ycoord']>=MAX_YCOORD]\n",
    "df_filtered3['Population'].mean()"
   ]
  },
  {
   "cell_type": "code",
   "execution_count": 22,
   "metadata": {},
   "outputs": [
    {
     "data": {
      "text/plain": [
       "0.799092312"
      ]
     },
     "execution_count": 22,
     "metadata": {},
     "output_type": "execute_result"
    }
   ],
   "source": [
    "df_TEST1['momi'].max()"
   ]
  },
  {
   "cell_type": "code",
   "execution_count": 23,
   "metadata": {},
   "outputs": [
    {
     "data": {
      "text/html": [
       "<div>\n",
       "<style scoped>\n",
       "    .dataframe tbody tr th:only-of-type {\n",
       "        vertical-align: middle;\n",
       "    }\n",
       "\n",
       "    .dataframe tbody tr th {\n",
       "        vertical-align: top;\n",
       "    }\n",
       "\n",
       "    .dataframe thead th {\n",
       "        text-align: right;\n",
       "    }\n",
       "</style>\n",
       "<table border=\"1\" class=\"dataframe\">\n",
       "  <thead>\n",
       "    <tr style=\"text-align: right;\">\n",
       "      <th></th>\n",
       "      <th>Plan_Number_ID</th>\n",
       "      <th>polsby</th>\n",
       "      <th>momi</th>\n",
       "      <th>schwar</th>\n",
       "      <th>reock</th>\n",
       "      <th>convex</th>\n",
       "      <th>Pop_dev</th>\n",
       "      <th>Pop_max</th>\n",
       "      <th>Pop_min</th>\n",
       "      <th>Max_dev</th>\n",
       "      <th>Sum_dev</th>\n",
       "      <th>Wt_dev</th>\n",
       "      <th>Num_splits</th>\n",
       "      <th>reock2</th>\n",
       "    </tr>\n",
       "  </thead>\n",
       "  <tbody>\n",
       "    <tr>\n",
       "      <th>0</th>\n",
       "      <td>0</td>\n",
       "      <td>0.174606</td>\n",
       "      <td>0.721649</td>\n",
       "      <td>0.411504</td>\n",
       "      <td>0.433082</td>\n",
       "      <td>0.716154</td>\n",
       "      <td>8823</td>\n",
       "      <td>756754</td>\n",
       "      <td>747931</td>\n",
       "      <td>4451.647059</td>\n",
       "      <td>46903.64706</td>\n",
       "      <td>2759.510024</td>\n",
       "      <td>68</td>\n",
       "      <td>0.658090</td>\n",
       "    </tr>\n",
       "    <tr>\n",
       "      <th>1</th>\n",
       "      <td>28</td>\n",
       "      <td>0.155564</td>\n",
       "      <td>0.718035</td>\n",
       "      <td>0.387776</td>\n",
       "      <td>0.413312</td>\n",
       "      <td>0.690476</td>\n",
       "      <td>11787</td>\n",
       "      <td>759252</td>\n",
       "      <td>747465</td>\n",
       "      <td>6869.352941</td>\n",
       "      <td>51630.23529</td>\n",
       "      <td>3040.585459</td>\n",
       "      <td>62</td>\n",
       "      <td>0.642893</td>\n",
       "    </tr>\n",
       "    <tr>\n",
       "      <th>2</th>\n",
       "      <td>29</td>\n",
       "      <td>0.162915</td>\n",
       "      <td>0.729030</td>\n",
       "      <td>0.395732</td>\n",
       "      <td>0.434117</td>\n",
       "      <td>0.707680</td>\n",
       "      <td>11264</td>\n",
       "      <td>758482</td>\n",
       "      <td>747218</td>\n",
       "      <td>6099.352941</td>\n",
       "      <td>51521.64706</td>\n",
       "      <td>3033.002176</td>\n",
       "      <td>66</td>\n",
       "      <td>0.658875</td>\n",
       "    </tr>\n",
       "    <tr>\n",
       "      <th>3</th>\n",
       "      <td>30</td>\n",
       "      <td>0.163654</td>\n",
       "      <td>0.702964</td>\n",
       "      <td>0.401350</td>\n",
       "      <td>0.403099</td>\n",
       "      <td>0.697137</td>\n",
       "      <td>11934</td>\n",
       "      <td>758751</td>\n",
       "      <td>746817</td>\n",
       "      <td>6368.352941</td>\n",
       "      <td>45930.35294</td>\n",
       "      <td>2702.430530</td>\n",
       "      <td>64</td>\n",
       "      <td>0.634901</td>\n",
       "    </tr>\n",
       "    <tr>\n",
       "      <th>4</th>\n",
       "      <td>31</td>\n",
       "      <td>0.167260</td>\n",
       "      <td>0.693758</td>\n",
       "      <td>0.405025</td>\n",
       "      <td>0.413943</td>\n",
       "      <td>0.710129</td>\n",
       "      <td>12621</td>\n",
       "      <td>757586</td>\n",
       "      <td>744965</td>\n",
       "      <td>7417.647059</td>\n",
       "      <td>37156.47059</td>\n",
       "      <td>2183.548066</td>\n",
       "      <td>65</td>\n",
       "      <td>0.643384</td>\n",
       "    </tr>\n",
       "  </tbody>\n",
       "</table>\n",
       "</div>"
      ],
      "text/plain": [
       "   Plan_Number_ID    polsby      momi    schwar     reock    convex  Pop_dev  \\\n",
       "0               0  0.174606  0.721649  0.411504  0.433082  0.716154     8823   \n",
       "1              28  0.155564  0.718035  0.387776  0.413312  0.690476    11787   \n",
       "2              29  0.162915  0.729030  0.395732  0.434117  0.707680    11264   \n",
       "3              30  0.163654  0.702964  0.401350  0.403099  0.697137    11934   \n",
       "4              31  0.167260  0.693758  0.405025  0.413943  0.710129    12621   \n",
       "\n",
       "   Pop_max  Pop_min      Max_dev      Sum_dev       Wt_dev  Num_splits  \\\n",
       "0   756754   747931  4451.647059  46903.64706  2759.510024          68   \n",
       "1   759252   747465  6869.352941  51630.23529  3040.585459          62   \n",
       "2   758482   747218  6099.352941  51521.64706  3033.002176          66   \n",
       "3   758751   746817  6368.352941  45930.35294  2702.430530          64   \n",
       "4   757586   744965  7417.647059  37156.47059  2183.548066          65   \n",
       "\n",
       "     reock2  \n",
       "0  0.658090  \n",
       "1  0.642893  \n",
       "2  0.658875  \n",
       "3  0.634901  \n",
       "4  0.643384  "
      ]
     },
     "execution_count": 23,
     "metadata": {},
     "output_type": "execute_result"
    }
   ],
   "source": [
    "df_TEST1['reock2']= df_TEST1['reock']**(1/2)\n",
    "df_TEST1.head(5)"
   ]
  },
  {
   "cell_type": "code",
   "execution_count": 24,
   "metadata": {},
   "outputs": [
    {
     "data": {
      "text/plain": [
       "0.6873928651069925"
      ]
     },
     "execution_count": 24,
     "metadata": {},
     "output_type": "execute_result"
    }
   ],
   "source": [
    "df_TEST1['reock2'].max()"
   ]
  },
  {
   "cell_type": "code",
   "execution_count": 25,
   "metadata": {},
   "outputs": [
    {
     "data": {
      "text/html": [
       "<div>\n",
       "<style scoped>\n",
       "    .dataframe tbody tr th:only-of-type {\n",
       "        vertical-align: middle;\n",
       "    }\n",
       "\n",
       "    .dataframe tbody tr th {\n",
       "        vertical-align: top;\n",
       "    }\n",
       "\n",
       "    .dataframe thead th {\n",
       "        text-align: right;\n",
       "    }\n",
       "</style>\n",
       "<table border=\"1\" class=\"dataframe\">\n",
       "  <thead>\n",
       "    <tr style=\"text-align: right;\">\n",
       "      <th></th>\n",
       "      <th>Plan_Number_ID</th>\n",
       "      <th>polsby</th>\n",
       "      <th>momi</th>\n",
       "      <th>schwar</th>\n",
       "      <th>reock</th>\n",
       "      <th>convex</th>\n",
       "      <th>Pop_dev</th>\n",
       "      <th>Pop_max</th>\n",
       "      <th>Pop_min</th>\n",
       "      <th>Max_dev</th>\n",
       "      <th>Sum_dev</th>\n",
       "      <th>Wt_dev</th>\n",
       "      <th>Num_splits</th>\n",
       "      <th>reock2</th>\n",
       "      <th>TotalSum</th>\n",
       "    </tr>\n",
       "  </thead>\n",
       "  <tbody>\n",
       "    <tr>\n",
       "      <th>0</th>\n",
       "      <td>0</td>\n",
       "      <td>0.174606</td>\n",
       "      <td>0.721649</td>\n",
       "      <td>0.411504</td>\n",
       "      <td>0.433082</td>\n",
       "      <td>0.716154</td>\n",
       "      <td>8823</td>\n",
       "      <td>756754</td>\n",
       "      <td>747931</td>\n",
       "      <td>4451.647059</td>\n",
       "      <td>46903.64706</td>\n",
       "      <td>2759.510024</td>\n",
       "      <td>68</td>\n",
       "      <td>0.658090</td>\n",
       "      <td>1.329337</td>\n",
       "    </tr>\n",
       "    <tr>\n",
       "      <th>1</th>\n",
       "      <td>28</td>\n",
       "      <td>0.155564</td>\n",
       "      <td>0.718035</td>\n",
       "      <td>0.387776</td>\n",
       "      <td>0.413312</td>\n",
       "      <td>0.690476</td>\n",
       "      <td>11787</td>\n",
       "      <td>759252</td>\n",
       "      <td>747465</td>\n",
       "      <td>6869.352941</td>\n",
       "      <td>51630.23529</td>\n",
       "      <td>3040.585459</td>\n",
       "      <td>62</td>\n",
       "      <td>0.642893</td>\n",
       "      <td>1.286912</td>\n",
       "    </tr>\n",
       "    <tr>\n",
       "      <th>2</th>\n",
       "      <td>29</td>\n",
       "      <td>0.162915</td>\n",
       "      <td>0.729030</td>\n",
       "      <td>0.395732</td>\n",
       "      <td>0.434117</td>\n",
       "      <td>0.707680</td>\n",
       "      <td>11264</td>\n",
       "      <td>758482</td>\n",
       "      <td>747218</td>\n",
       "      <td>6099.352941</td>\n",
       "      <td>51521.64706</td>\n",
       "      <td>3033.002176</td>\n",
       "      <td>66</td>\n",
       "      <td>0.658875</td>\n",
       "      <td>1.326062</td>\n",
       "    </tr>\n",
       "  </tbody>\n",
       "</table>\n",
       "</div>"
      ],
      "text/plain": [
       "   Plan_Number_ID    polsby      momi    schwar     reock    convex  Pop_dev  \\\n",
       "0               0  0.174606  0.721649  0.411504  0.433082  0.716154     8823   \n",
       "1              28  0.155564  0.718035  0.387776  0.413312  0.690476    11787   \n",
       "2              29  0.162915  0.729030  0.395732  0.434117  0.707680    11264   \n",
       "\n",
       "   Pop_max  Pop_min      Max_dev      Sum_dev       Wt_dev  Num_splits  \\\n",
       "0   756754   747931  4451.647059  46903.64706  2759.510024          68   \n",
       "1   759252   747465  6869.352941  51630.23529  3040.585459          62   \n",
       "2   758482   747218  6099.352941  51521.64706  3033.002176          66   \n",
       "\n",
       "     reock2  TotalSum  \n",
       "0  0.658090  1.329337  \n",
       "1  0.642893  1.286912  \n",
       "2  0.658875  1.326062  "
      ]
     },
     "execution_count": 25,
     "metadata": {},
     "output_type": "execute_result"
    }
   ],
   "source": [
    "column_names=['momi', 'polsby', 'reock']\n",
    "df_TEST1['TotalSum']=df_TEST1[column_names].sum(axis=1)\n",
    "df_TEST1.head(3)"
   ]
  },
  {
   "cell_type": "code",
   "execution_count": 26,
   "metadata": {},
   "outputs": [
    {
     "data": {
      "text/plain": [
       "1.4748089039999999"
      ]
     },
     "execution_count": 26,
     "metadata": {},
     "output_type": "execute_result"
    }
   ],
   "source": [
    "df_TEST1['TotalSum'].max()"
   ]
  },
  {
   "cell_type": "code",
   "execution_count": 35,
   "metadata": {},
   "outputs": [
    {
     "data": {
      "text/plain": [
       "1.4748089039999999"
      ]
     },
     "execution_count": 35,
     "metadata": {},
     "output_type": "execute_result"
    }
   ],
   "source": [
    "df_TEST1[\"Sum\"]=df_TEST1.momi+df_TEST1.polsby+df_TEST1.reock\n",
    "df_TEST1.head(2)\n",
    "df_TEST1['Sum'].max()\n",
    "#adding three columns and making them in a new column and taking maximum of them"
   ]
  },
  {
   "cell_type": "code",
   "execution_count": 40,
   "metadata": {},
   "outputs": [
    {
     "data": {
      "text/html": [
       "<div>\n",
       "<style scoped>\n",
       "    .dataframe tbody tr th:only-of-type {\n",
       "        vertical-align: middle;\n",
       "    }\n",
       "\n",
       "    .dataframe tbody tr th {\n",
       "        vertical-align: top;\n",
       "    }\n",
       "\n",
       "    .dataframe thead th {\n",
       "        text-align: right;\n",
       "    }\n",
       "</style>\n",
       "<table border=\"1\" class=\"dataframe\">\n",
       "  <thead>\n",
       "    <tr style=\"text-align: right;\">\n",
       "      <th></th>\n",
       "      <th>Plan_Number_ID</th>\n",
       "      <th>polsby</th>\n",
       "      <th>momi</th>\n",
       "      <th>schwar</th>\n",
       "      <th>reock</th>\n",
       "      <th>convex</th>\n",
       "      <th>Pop_dev</th>\n",
       "      <th>Pop_max</th>\n",
       "      <th>Pop_min</th>\n",
       "      <th>Max_dev</th>\n",
       "      <th>Sum_dev</th>\n",
       "      <th>Wt_dev</th>\n",
       "      <th>Num_splits</th>\n",
       "      <th>Sum</th>\n",
       "      <th>Square of column</th>\n",
       "    </tr>\n",
       "  </thead>\n",
       "  <tbody>\n",
       "    <tr>\n",
       "      <th>0</th>\n",
       "      <td>0</td>\n",
       "      <td>0.174606</td>\n",
       "      <td>0.721649</td>\n",
       "      <td>0.411504</td>\n",
       "      <td>0.433082</td>\n",
       "      <td>0.716154</td>\n",
       "      <td>8823</td>\n",
       "      <td>756754</td>\n",
       "      <td>747931</td>\n",
       "      <td>4451.647059</td>\n",
       "      <td>46903.64706</td>\n",
       "      <td>2759.510024</td>\n",
       "      <td>68</td>\n",
       "      <td>1.329337</td>\n",
       "      <td>0.520777</td>\n",
       "    </tr>\n",
       "    <tr>\n",
       "      <th>1</th>\n",
       "      <td>28</td>\n",
       "      <td>0.155564</td>\n",
       "      <td>0.718035</td>\n",
       "      <td>0.387776</td>\n",
       "      <td>0.413312</td>\n",
       "      <td>0.690476</td>\n",
       "      <td>11787</td>\n",
       "      <td>759252</td>\n",
       "      <td>747465</td>\n",
       "      <td>6869.352941</td>\n",
       "      <td>51630.23529</td>\n",
       "      <td>3040.585459</td>\n",
       "      <td>62</td>\n",
       "      <td>1.286912</td>\n",
       "      <td>0.515575</td>\n",
       "    </tr>\n",
       "    <tr>\n",
       "      <th>2</th>\n",
       "      <td>29</td>\n",
       "      <td>0.162915</td>\n",
       "      <td>0.729030</td>\n",
       "      <td>0.395732</td>\n",
       "      <td>0.434117</td>\n",
       "      <td>0.707680</td>\n",
       "      <td>11264</td>\n",
       "      <td>758482</td>\n",
       "      <td>747218</td>\n",
       "      <td>6099.352941</td>\n",
       "      <td>51521.64706</td>\n",
       "      <td>3033.002176</td>\n",
       "      <td>66</td>\n",
       "      <td>1.326062</td>\n",
       "      <td>0.531485</td>\n",
       "    </tr>\n",
       "  </tbody>\n",
       "</table>\n",
       "</div>"
      ],
      "text/plain": [
       "   Plan_Number_ID    polsby      momi    schwar     reock    convex  Pop_dev  \\\n",
       "0               0  0.174606  0.721649  0.411504  0.433082  0.716154     8823   \n",
       "1              28  0.155564  0.718035  0.387776  0.413312  0.690476    11787   \n",
       "2              29  0.162915  0.729030  0.395732  0.434117  0.707680    11264   \n",
       "\n",
       "   Pop_max  Pop_min      Max_dev      Sum_dev       Wt_dev  Num_splits  \\\n",
       "0   756754   747931  4451.647059  46903.64706  2759.510024          68   \n",
       "1   759252   747465  6869.352941  51630.23529  3040.585459          62   \n",
       "2   758482   747218  6099.352941  51521.64706  3033.002176          66   \n",
       "\n",
       "        Sum  Square of column  \n",
       "0  1.329337          0.520777  \n",
       "1  1.286912          0.515575  \n",
       "2  1.326062          0.531485  "
      ]
     },
     "execution_count": 40,
     "metadata": {},
     "output_type": "execute_result"
    }
   ],
   "source": [
    "df_TEST1['Square of column']=df_TEST1['momi'].pow(2)\n",
    "df_TEST1.head(3)\n",
    "#Square of column"
   ]
  },
  {
   "cell_type": "code",
   "execution_count": 41,
   "metadata": {},
   "outputs": [
    {
     "data": {
      "text/html": [
       "<div>\n",
       "<style scoped>\n",
       "    .dataframe tbody tr th:only-of-type {\n",
       "        vertical-align: middle;\n",
       "    }\n",
       "\n",
       "    .dataframe tbody tr th {\n",
       "        vertical-align: top;\n",
       "    }\n",
       "\n",
       "    .dataframe thead th {\n",
       "        text-align: right;\n",
       "    }\n",
       "</style>\n",
       "<table border=\"1\" class=\"dataframe\">\n",
       "  <thead>\n",
       "    <tr style=\"text-align: right;\">\n",
       "      <th></th>\n",
       "      <th>Plan_Number_ID</th>\n",
       "      <th>convex</th>\n",
       "      <th>Pop_dev</th>\n",
       "      <th>Pop_max</th>\n",
       "      <th>Pop_min</th>\n",
       "      <th>Max_dev</th>\n",
       "      <th>Sum_dev</th>\n",
       "      <th>Wt_dev</th>\n",
       "      <th>Num_splits</th>\n",
       "      <th>Sum</th>\n",
       "      <th>Square of column</th>\n",
       "    </tr>\n",
       "  </thead>\n",
       "  <tbody>\n",
       "    <tr>\n",
       "      <th>0</th>\n",
       "      <td>0</td>\n",
       "      <td>0.716154</td>\n",
       "      <td>8823</td>\n",
       "      <td>756754</td>\n",
       "      <td>747931</td>\n",
       "      <td>4451.647059</td>\n",
       "      <td>46903.64706</td>\n",
       "      <td>2759.510024</td>\n",
       "      <td>68</td>\n",
       "      <td>1.329337</td>\n",
       "      <td>0.520777</td>\n",
       "    </tr>\n",
       "    <tr>\n",
       "      <th>1</th>\n",
       "      <td>28</td>\n",
       "      <td>0.690476</td>\n",
       "      <td>11787</td>\n",
       "      <td>759252</td>\n",
       "      <td>747465</td>\n",
       "      <td>6869.352941</td>\n",
       "      <td>51630.23529</td>\n",
       "      <td>3040.585459</td>\n",
       "      <td>62</td>\n",
       "      <td>1.286912</td>\n",
       "      <td>0.515575</td>\n",
       "    </tr>\n",
       "    <tr>\n",
       "      <th>2</th>\n",
       "      <td>29</td>\n",
       "      <td>0.707680</td>\n",
       "      <td>11264</td>\n",
       "      <td>758482</td>\n",
       "      <td>747218</td>\n",
       "      <td>6099.352941</td>\n",
       "      <td>51521.64706</td>\n",
       "      <td>3033.002176</td>\n",
       "      <td>66</td>\n",
       "      <td>1.326062</td>\n",
       "      <td>0.531485</td>\n",
       "    </tr>\n",
       "  </tbody>\n",
       "</table>\n",
       "</div>"
      ],
      "text/plain": [
       "   Plan_Number_ID    convex  Pop_dev  Pop_max  Pop_min      Max_dev  \\\n",
       "0               0  0.716154     8823   756754   747931  4451.647059   \n",
       "1              28  0.690476    11787   759252   747465  6869.352941   \n",
       "2              29  0.707680    11264   758482   747218  6099.352941   \n",
       "\n",
       "       Sum_dev       Wt_dev  Num_splits       Sum  Square of column  \n",
       "0  46903.64706  2759.510024          68  1.329337          0.520777  \n",
       "1  51630.23529  3040.585459          62  1.286912          0.515575  \n",
       "2  51521.64706  3033.002176          66  1.326062          0.531485  "
      ]
     },
     "execution_count": 41,
     "metadata": {},
     "output_type": "execute_result"
    }
   ],
   "source": [
    "df_TEST1 = df_TEST1.drop(\"momi\",axis=\"columns\")\n",
    "df_TEST1 = df_TEST1.drop(\"polsby\",axis=\"columns\")\n",
    "df_TEST1 = df_TEST1.drop(\"schwar\",axis=\"columns\")\n",
    "df_TEST1 = df_TEST1.drop(\"reock\",axis=\"columns\")\n",
    "df_TEST1.head(3)\n",
    "#dropping columns from data"
   ]
  }
 ],
 "metadata": {
  "kernelspec": {
   "display_name": "Python 3",
   "language": "python",
   "name": "python3"
  },
  "language_info": {
   "codemirror_mode": {
    "name": "ipython",
    "version": 3
   },
   "file_extension": ".py",
   "mimetype": "text/x-python",
   "name": "python",
   "nbconvert_exporter": "python",
   "pygments_lexer": "ipython3",
   "version": "3.7.4"
  }
 },
 "nbformat": 4,
 "nbformat_minor": 5
}
