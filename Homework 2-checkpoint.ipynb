{
 "cells": [
  {
   "cell_type": "code",
   "execution_count": 127,
   "metadata": {},
   "outputs": [],
   "source": [
    "import pandas as pd\n",
    "import numpy as np\n",
    "import matplotlib.pyplot as plt\n",
    "from scipy.stats import norm\n",
    "\n",
    "mlmdata = pd.read_csv('ml1mdata2000.csv')\n",
    "# get the date from timestamp:\n",
    "mlmdata['date']=pd.to_datetime(mlmdata['timestamp'], unit='s', errors='coerce')\n",
    "#using the DatetimeIndex() function to extract year and month:\n",
    "mlmdata['year'] = pd.DatetimeIndex(mlmdata['date']).year\n",
    "mlmdata['month'] = pd.DatetimeIndex(mlmdata['date']).month"
   ]
  },
  {
   "cell_type": "code",
   "execution_count": 128,
   "metadata": {},
   "outputs": [
    {
     "data": {
      "text/plain": [
       "553"
      ]
     },
     "execution_count": 128,
     "metadata": {},
     "output_type": "execute_result"
    }
   ],
   "source": [
    "mlmdata.isnull().sum()  # Count missing values in each column\n",
    "mlmdata.isnull().sum().sum()  # Total number of missing values\n",
    "\n",
    "#Q1. Missing values in dataset"
   ]
  },
  {
   "cell_type": "code",
   "execution_count": 129,
   "metadata": {},
   "outputs": [
    {
     "name": "stdout",
     "output_type": "stream",
     "text": [
      "user_id        13\n",
      "movie_id       80\n",
      "rating          0\n",
      "timestamp       0\n",
      "gender          0\n",
      "age            66\n",
      "occupation     55\n",
      "zip            73\n",
      "title         173\n",
      "genres         93\n",
      "date            0\n",
      "year            0\n",
      "month           0\n",
      "dtype: int64\n"
     ]
    }
   ],
   "source": [
    "print(mlmdata.isnull().sum())\n",
    "\n",
    "#Q2. Title attribute has the most missing values with 173 "
   ]
  },
  {
   "cell_type": "code",
   "execution_count": 130,
   "metadata": {},
   "outputs": [
    {
     "name": "stdout",
     "output_type": "stream",
     "text": [
      "Number of rows in original data: 1000209\n"
     ]
    }
   ],
   "source": [
    "print(\"Number of rows in original data:\", mlmdata.shape[0])\n",
    "#Q3. What is the number of rows in the original data?"
   ]
  },
  {
   "cell_type": "code",
   "execution_count": 131,
   "metadata": {},
   "outputs": [
    {
     "data": {
      "text/html": [
       "<div>\n",
       "<style scoped>\n",
       "    .dataframe tbody tr th:only-of-type {\n",
       "        vertical-align: middle;\n",
       "    }\n",
       "\n",
       "    .dataframe tbody tr th {\n",
       "        vertical-align: top;\n",
       "    }\n",
       "\n",
       "    .dataframe thead th {\n",
       "        text-align: right;\n",
       "    }\n",
       "</style>\n",
       "<table border=\"1\" class=\"dataframe\">\n",
       "  <thead>\n",
       "    <tr style=\"text-align: right;\">\n",
       "      <th></th>\n",
       "      <th>user_id</th>\n",
       "      <th>movie_id</th>\n",
       "      <th>rating</th>\n",
       "      <th>timestamp</th>\n",
       "      <th>gender</th>\n",
       "      <th>age</th>\n",
       "      <th>occupation</th>\n",
       "      <th>zip</th>\n",
       "      <th>title</th>\n",
       "      <th>genres</th>\n",
       "      <th>date</th>\n",
       "      <th>year</th>\n",
       "      <th>month</th>\n",
       "    </tr>\n",
       "  </thead>\n",
       "  <tbody>\n",
       "    <tr>\n",
       "      <td>0</td>\n",
       "      <td>1.0</td>\n",
       "      <td>1193.0</td>\n",
       "      <td>5</td>\n",
       "      <td>978300760</td>\n",
       "      <td>F</td>\n",
       "      <td>1.0</td>\n",
       "      <td>10.0</td>\n",
       "      <td>48067</td>\n",
       "      <td>One Flew Over the Cuckoo's Nest (1975)</td>\n",
       "      <td>Drama</td>\n",
       "      <td>2000-12-31 22:12:40</td>\n",
       "      <td>2000</td>\n",
       "      <td>12</td>\n",
       "    </tr>\n",
       "    <tr>\n",
       "      <td>1</td>\n",
       "      <td>2.0</td>\n",
       "      <td>1193.0</td>\n",
       "      <td>5</td>\n",
       "      <td>978298413</td>\n",
       "      <td>M</td>\n",
       "      <td>56.0</td>\n",
       "      <td>16.0</td>\n",
       "      <td>70072</td>\n",
       "      <td>One Flew Over the Cuckoo's Nest (1975)</td>\n",
       "      <td>Drama</td>\n",
       "      <td>2000-12-31 21:33:33</td>\n",
       "      <td>2000</td>\n",
       "      <td>12</td>\n",
       "    </tr>\n",
       "    <tr>\n",
       "      <td>2</td>\n",
       "      <td>12.0</td>\n",
       "      <td>1193.0</td>\n",
       "      <td>4</td>\n",
       "      <td>978220179</td>\n",
       "      <td>M</td>\n",
       "      <td>25.0</td>\n",
       "      <td>12.0</td>\n",
       "      <td>32793</td>\n",
       "      <td>One Flew Over the Cuckoo's Nest (1975)</td>\n",
       "      <td>Drama</td>\n",
       "      <td>2000-12-30 23:49:39</td>\n",
       "      <td>2000</td>\n",
       "      <td>12</td>\n",
       "    </tr>\n",
       "    <tr>\n",
       "      <td>3</td>\n",
       "      <td>15.0</td>\n",
       "      <td>1193.0</td>\n",
       "      <td>4</td>\n",
       "      <td>978199279</td>\n",
       "      <td>M</td>\n",
       "      <td>25.0</td>\n",
       "      <td>7.0</td>\n",
       "      <td>22903</td>\n",
       "      <td>One Flew Over the Cuckoo's Nest (1975)</td>\n",
       "      <td>Drama</td>\n",
       "      <td>2000-12-30 18:01:19</td>\n",
       "      <td>2000</td>\n",
       "      <td>12</td>\n",
       "    </tr>\n",
       "    <tr>\n",
       "      <td>4</td>\n",
       "      <td>17.0</td>\n",
       "      <td>1193.0</td>\n",
       "      <td>5</td>\n",
       "      <td>978158471</td>\n",
       "      <td>M</td>\n",
       "      <td>50.0</td>\n",
       "      <td>1.0</td>\n",
       "      <td>95350</td>\n",
       "      <td>One Flew Over the Cuckoo's Nest (1975)</td>\n",
       "      <td>Drama</td>\n",
       "      <td>2000-12-30 06:41:11</td>\n",
       "      <td>2000</td>\n",
       "      <td>12</td>\n",
       "    </tr>\n",
       "    <tr>\n",
       "      <td>5</td>\n",
       "      <td>18.0</td>\n",
       "      <td>1193.0</td>\n",
       "      <td>4</td>\n",
       "      <td>978156168</td>\n",
       "      <td>F</td>\n",
       "      <td>18.0</td>\n",
       "      <td>3.0</td>\n",
       "      <td>95825</td>\n",
       "      <td>One Flew Over the Cuckoo's Nest (1975)</td>\n",
       "      <td>Drama</td>\n",
       "      <td>2000-12-30 06:02:48</td>\n",
       "      <td>2000</td>\n",
       "      <td>12</td>\n",
       "    </tr>\n",
       "    <tr>\n",
       "      <td>6</td>\n",
       "      <td>19.0</td>\n",
       "      <td>1193.0</td>\n",
       "      <td>5</td>\n",
       "      <td>982730936</td>\n",
       "      <td>M</td>\n",
       "      <td>1.0</td>\n",
       "      <td>10.0</td>\n",
       "      <td>48073</td>\n",
       "      <td>One Flew Over the Cuckoo's Nest (1975)</td>\n",
       "      <td>Drama</td>\n",
       "      <td>2001-02-21 04:48:56</td>\n",
       "      <td>2001</td>\n",
       "      <td>2</td>\n",
       "    </tr>\n",
       "    <tr>\n",
       "      <td>7</td>\n",
       "      <td>24.0</td>\n",
       "      <td>1193.0</td>\n",
       "      <td>5</td>\n",
       "      <td>978136709</td>\n",
       "      <td>F</td>\n",
       "      <td>25.0</td>\n",
       "      <td>7.0</td>\n",
       "      <td>10023</td>\n",
       "      <td>One Flew Over the Cuckoo's Nest (1975)</td>\n",
       "      <td>Drama</td>\n",
       "      <td>2000-12-30 00:38:29</td>\n",
       "      <td>2000</td>\n",
       "      <td>12</td>\n",
       "    </tr>\n",
       "    <tr>\n",
       "      <td>8</td>\n",
       "      <td>28.0</td>\n",
       "      <td>1193.0</td>\n",
       "      <td>3</td>\n",
       "      <td>978125194</td>\n",
       "      <td>F</td>\n",
       "      <td>25.0</td>\n",
       "      <td>1.0</td>\n",
       "      <td>14607</td>\n",
       "      <td>One Flew Over the Cuckoo's Nest (1975)</td>\n",
       "      <td>NaN</td>\n",
       "      <td>2000-12-29 21:26:34</td>\n",
       "      <td>2000</td>\n",
       "      <td>12</td>\n",
       "    </tr>\n",
       "    <tr>\n",
       "      <td>9</td>\n",
       "      <td>33.0</td>\n",
       "      <td>1193.0</td>\n",
       "      <td>5</td>\n",
       "      <td>978557765</td>\n",
       "      <td>M</td>\n",
       "      <td>45.0</td>\n",
       "      <td>3.0</td>\n",
       "      <td>55421</td>\n",
       "      <td>One Flew Over the Cuckoo's Nest (1975)</td>\n",
       "      <td>NaN</td>\n",
       "      <td>2001-01-03 21:36:05</td>\n",
       "      <td>2001</td>\n",
       "      <td>1</td>\n",
       "    </tr>\n",
       "  </tbody>\n",
       "</table>\n",
       "</div>"
      ],
      "text/plain": [
       "   user_id  movie_id  rating  timestamp gender   age  occupation    zip  \\\n",
       "0      1.0    1193.0       5  978300760      F   1.0        10.0  48067   \n",
       "1      2.0    1193.0       5  978298413      M  56.0        16.0  70072   \n",
       "2     12.0    1193.0       4  978220179      M  25.0        12.0  32793   \n",
       "3     15.0    1193.0       4  978199279      M  25.0         7.0  22903   \n",
       "4     17.0    1193.0       5  978158471      M  50.0         1.0  95350   \n",
       "5     18.0    1193.0       4  978156168      F  18.0         3.0  95825   \n",
       "6     19.0    1193.0       5  982730936      M   1.0        10.0  48073   \n",
       "7     24.0    1193.0       5  978136709      F  25.0         7.0  10023   \n",
       "8     28.0    1193.0       3  978125194      F  25.0         1.0  14607   \n",
       "9     33.0    1193.0       5  978557765      M  45.0         3.0  55421   \n",
       "\n",
       "                                    title genres                date  year  \\\n",
       "0  One Flew Over the Cuckoo's Nest (1975)  Drama 2000-12-31 22:12:40  2000   \n",
       "1  One Flew Over the Cuckoo's Nest (1975)  Drama 2000-12-31 21:33:33  2000   \n",
       "2  One Flew Over the Cuckoo's Nest (1975)  Drama 2000-12-30 23:49:39  2000   \n",
       "3  One Flew Over the Cuckoo's Nest (1975)  Drama 2000-12-30 18:01:19  2000   \n",
       "4  One Flew Over the Cuckoo's Nest (1975)  Drama 2000-12-30 06:41:11  2000   \n",
       "5  One Flew Over the Cuckoo's Nest (1975)  Drama 2000-12-30 06:02:48  2000   \n",
       "6  One Flew Over the Cuckoo's Nest (1975)  Drama 2001-02-21 04:48:56  2001   \n",
       "7  One Flew Over the Cuckoo's Nest (1975)  Drama 2000-12-30 00:38:29  2000   \n",
       "8  One Flew Over the Cuckoo's Nest (1975)    NaN 2000-12-29 21:26:34  2000   \n",
       "9  One Flew Over the Cuckoo's Nest (1975)    NaN 2001-01-03 21:36:05  2001   \n",
       "\n",
       "   month  \n",
       "0     12  \n",
       "1     12  \n",
       "2     12  \n",
       "3     12  \n",
       "4     12  \n",
       "5     12  \n",
       "6      2  \n",
       "7     12  \n",
       "8     12  \n",
       "9      1  "
      ]
     },
     "execution_count": 131,
     "metadata": {},
     "output_type": "execute_result"
    }
   ],
   "source": [
    "mlmdata.head(10)"
   ]
  },
  {
   "cell_type": "code",
   "execution_count": 132,
   "metadata": {},
   "outputs": [
    {
     "name": "stdout",
     "output_type": "stream",
     "text": [
      "Number of rows after dropping missing values: 999795\n"
     ]
    }
   ],
   "source": [
    "df_dropna = mlmdata.dropna()\n",
    "print(\"Number of rows after dropping missing values:\", df_dropna.shape[0])\n",
    "age = mlmdata.dropna(subset=['age'])\n",
    "#Q3.  What is the number of rows after dropping the missing values?"
   ]
  },
  {
   "cell_type": "code",
   "execution_count": 133,
   "metadata": {},
   "outputs": [
    {
     "name": "stdout",
     "output_type": "stream",
     "text": [
      "age column:\n",
      "\t Mean = 29.74\n",
      "\t Standard deviation = 11.75\n",
      "\t Minimum = 1.00\n",
      "\t Maximum = 56.00\n"
     ]
    }
   ],
   "source": [
    "\n",
    "\n",
    "print('age column:')\n",
    "print('\\t Mean = %.2f' % age['age'].mean())\n",
    "print('\\t Standard deviation = %.2f' % age['age'].std())\n",
    "print('\\t Minimum = %.2f' % age['age'].min())\n",
    "print('\\t Maximum = %.2f' % age['age'].max())\n",
    "\n",
    "\n",
    "#Q4. Summary stats for Age"
   ]
  },
  {
   "cell_type": "code",
   "execution_count": 135,
   "metadata": {},
   "outputs": [
    {
     "name": "stdout",
     "output_type": "stream",
     "text": [
      "             user_id  movie_id    rating  timestamp       age  occupation  \\\n",
      "user_id     1.000000 -0.017614  0.012384  -0.490446  0.034718   -0.026696   \n",
      "movie_id   -0.017614  1.000000 -0.064094   0.041597  0.027591    0.008543   \n",
      "rating      0.012384 -0.064094  1.000000  -0.026750  0.056876    0.006733   \n",
      "timestamp  -0.490446  0.041597 -0.026750   1.000000 -0.064597    0.015637   \n",
      "age         0.034718  0.027591  0.056876  -0.064597  1.000000    0.078362   \n",
      "occupation -0.026696  0.008543  0.006733   0.015637  0.078362    1.000000   \n",
      "year       -0.094316  0.039231 -0.024483   0.840574 -0.065603   -0.003114   \n",
      "month      -0.633603 -0.003239  0.000943   0.121068  0.016184    0.035156   \n",
      "\n",
      "                year     month  \n",
      "user_id    -0.094316 -0.633603  \n",
      "movie_id    0.039231 -0.003239  \n",
      "rating     -0.024483  0.000943  \n",
      "timestamp   0.840574  0.121068  \n",
      "age        -0.065603  0.016184  \n",
      "occupation -0.003114  0.035156  \n",
      "year        1.000000 -0.432900  \n",
      "month      -0.432900  1.000000  \n"
     ]
    }
   ],
   "source": [
    "df_dropna = mlmdata.dropna()\n",
    "corr_matrix = df_dropna.corr()\n",
    "\n",
    "print(corr_matrix)\n",
    "\n",
    "\n",
    "#Q5. Below is the correlation matrix between all pairs of attributes.\n",
    "#Although the attribute year and timestamp has the highest correlation (84%), month and timesto, \n",
    "# that is because Year attribute is calculated from timestamp. \n",
    "# But logically, age and occupation has around 8% correlation\n",
    "# age and rating also has 6% correlation"
   ]
  },
  {
   "cell_type": "code",
   "execution_count": null,
   "metadata": {},
   "outputs": [],
   "source": []
  },
  {
   "cell_type": "code",
   "execution_count": 136,
   "metadata": {},
   "outputs": [
    {
     "data": {
      "image/png": "[encoded data removed]",
      "text/plain": [
       "<Figure size 432x288 with 1 Axes>"
      ]
     },
     "metadata": {
      "needs_background": "light"
     },
     "output_type": "display_data"
    }
   ],
   "source": [
    "df_dropna = mlmdata.dropna(subset=['age'])\n",
    "plt.hist(df_dropna['age'], bins=6)\n",
    "\n",
    "age_mean = df_dropna['age'].mean()\n",
    "age_std = df_dropna['age'].std()\n",
    "plt.hist(df_dropna['age'], bins=6, density=True)\n",
    "\n",
    "\n",
    "plt.xlabel(\"Age\")\n",
    "plt.ylabel(\"Frequency\")\n",
    "plt.title(\"Age Histogram\")\n",
    "plt.grid(True)\n",
    "plt.show()\n",
    "\n",
    "\n",
    "#Q6. Histogram for Age distribution, 20-30 has the maximum in terms of distribution"
   ]
  },
  {
   "cell_type": "code",
   "execution_count": 11,
   "metadata": {},
   "outputs": [
    {
     "data": {
      "image/png": "[encoded data removed]",
      "text/plain": [
       "<Figure size 432x288 with 1 Axes>"
      ]
     },
     "metadata": {
      "needs_background": "light"
     },
     "output_type": "display_data"
    }
   ],
   "source": [
    "df_dropna = mlmdata.dropna(subset=['age'])\n",
    "plt.hist(df_dropna['age'], bins=5)\n",
    "plt.xlabel(\"Age\")\n",
    "plt.ylabel(\"Frequency\")\n",
    "plt.title(\"Age Distribution (5 Bins)\")\n",
    "plt.grid(True)\n",
    "\n",
    "plt.show()\n",
    "\n",
    "#Q6. Histogram for Age distribution with 5 bins, \n",
    "# 20-30 has the maximum in terms of distribution and the chart holds shape\n"
   ]
  },
  {
   "cell_type": "code",
   "execution_count": 12,
   "metadata": {},
   "outputs": [
    {
     "data": {
      "image/png": "[encoded data removed]",
      "text/plain": [
       "<Figure size 432x288 with 1 Axes>"
      ]
     },
     "metadata": {
      "needs_background": "light"
     },
     "output_type": "display_data"
    }
   ],
   "source": [
    "df_dropna = mlmdata.dropna(subset=['age'])\n",
    "plt.hist(df_dropna['age'], bins=5)\n",
    "plt.xlabel(\"Age\")\n",
    "plt.ylabel(\"Frequency\")\n",
    "plt.title(\"Age Distribution (8 Bins)\")\n",
    "plt.grid(True)\n",
    "\n",
    "plt.show()\n",
    "\n",
    "#Q6. Histogram for Age distribution with 5 bins, \n",
    "# 20-30 has the maximum in terms of distribution and the chart holds shape"
   ]
  },
  {
   "cell_type": "code",
   "execution_count": 137,
   "metadata": {},
   "outputs": [
    {
     "name": "stdout",
     "output_type": "stream",
     "text": [
      "Duplicate rows exist: False\n"
     ]
    }
   ],
   "source": [
    "has_duplicates = mlmdata.duplicated().any()\n",
    "print(\"Duplicate rows exist:\", has_duplicates)\n",
    "\n",
    "#Q7. No duplicate rows exist"
   ]
  },
  {
   "cell_type": "code",
   "execution_count": 138,
   "metadata": {},
   "outputs": [
    {
     "name": "stdout",
     "output_type": "stream",
     "text": [
      "Row 20: user_id                                           59\n",
      "movie_id                                        1193\n",
      "rating                                             4\n",
      "timestamp                                  977934292\n",
      "gender                                             F\n",
      "age                                               50\n",
      "occupation                                         1\n",
      "zip                                            55413\n",
      "title         One Flew Over the Cuckoo's Nest (1975)\n",
      "genres                                           NaN\n",
      "date                             2000-12-27 16:24:52\n",
      "year                                            2000\n",
      "month                                             12\n",
      "Name: 19, dtype: object\n",
      "Row 76: user_id                                          292\n",
      "movie_id                                        1193\n",
      "rating                                             5\n",
      "timestamp                                  976560692\n",
      "gender                                             M\n",
      "age                                               35\n",
      "occupation                                         7\n",
      "zip                                            19406\n",
      "title         One Flew Over the Cuckoo's Nest (1975)\n",
      "genres                                         Drama\n",
      "date                             2000-12-11 18:51:32\n",
      "year                                            2000\n",
      "month                                             12\n",
      "Name: 75, dtype: object\n",
      "\n",
      "Matching attributes: ['movie_id', 'title', 'year', 'month']\n"
     ]
    }
   ],
   "source": [
    "row_20 = mlmdata.iloc[19]\n",
    "row_76 = mlmdata.iloc[75]\n",
    "print(\"Row 20:\", row_20)\n",
    "print(\"Row 76:\", row_76)\n",
    "\n",
    "\n",
    "\n",
    "matching_attributes = row_20.index[row_20 == row_76]\n",
    "\n",
    "if len(matching_attributes) > 0:\n",
    "    print(\"\\nMatching attributes:\", matching_attributes.tolist())\n",
    "else:\n",
    "    print(\"\\nNo matching attributes found.\")\n",
    "    \n",
    "\n",
    "#Q7. Row 20 and 76 displayed along with matching attributes in these rows which are Movie id, title, year, month"
   ]
  },
  {
   "cell_type": "code",
   "execution_count": 139,
   "metadata": {},
   "outputs": [
    {
     "data": {
      "text/html": [
       "<div>\n",
       "<style scoped>\n",
       "    .dataframe tbody tr th:only-of-type {\n",
       "        vertical-align: middle;\n",
       "    }\n",
       "\n",
       "    .dataframe tbody tr th {\n",
       "        vertical-align: top;\n",
       "    }\n",
       "\n",
       "    .dataframe thead th {\n",
       "        text-align: right;\n",
       "    }\n",
       "</style>\n",
       "<table border=\"1\" class=\"dataframe\">\n",
       "  <thead>\n",
       "    <tr style=\"text-align: right;\">\n",
       "      <th></th>\n",
       "      <th>rating</th>\n",
       "      <th>age</th>\n",
       "    </tr>\n",
       "  </thead>\n",
       "  <tbody>\n",
       "    <tr>\n",
       "      <td>0</td>\n",
       "      <td>5</td>\n",
       "      <td>1.0</td>\n",
       "    </tr>\n",
       "    <tr>\n",
       "      <td>1</td>\n",
       "      <td>5</td>\n",
       "      <td>56.0</td>\n",
       "    </tr>\n",
       "    <tr>\n",
       "      <td>2</td>\n",
       "      <td>4</td>\n",
       "      <td>25.0</td>\n",
       "    </tr>\n",
       "    <tr>\n",
       "      <td>3</td>\n",
       "      <td>4</td>\n",
       "      <td>25.0</td>\n",
       "    </tr>\n",
       "    <tr>\n",
       "      <td>4</td>\n",
       "      <td>5</td>\n",
       "      <td>50.0</td>\n",
       "    </tr>\n",
       "    <tr>\n",
       "      <td>5</td>\n",
       "      <td>4</td>\n",
       "      <td>18.0</td>\n",
       "    </tr>\n",
       "    <tr>\n",
       "      <td>6</td>\n",
       "      <td>5</td>\n",
       "      <td>1.0</td>\n",
       "    </tr>\n",
       "  </tbody>\n",
       "</table>\n",
       "</div>"
      ],
      "text/plain": [
       "   rating   age\n",
       "0       5   1.0\n",
       "1       5  56.0\n",
       "2       4  25.0\n",
       "3       4  25.0\n",
       "4       5  50.0\n",
       "5       4  18.0\n",
       "6       5   1.0"
      ]
     },
     "execution_count": 139,
     "metadata": {},
     "output_type": "execute_result"
    }
   ],
   "source": [
    "\n",
    "columns_to_drop = ['user_id','movie_id', 'timestamp', 'gender', 'occupation', 'zip', 'title', 'genres', 'year','month','date']\n",
    "new_df = mlmdata.drop(columns_to_drop, axis=1)\n",
    "df_filtered = new_df.dropna(subset=['age','rating'])\n",
    "df_filtered.head(7)\n",
    "\n",
    "#Q8. new dataframe with only rating and age created after dropping missing values"
   ]
  },
  {
   "cell_type": "code",
   "execution_count": 140,
   "metadata": {},
   "outputs": [
    {
     "name": "stdout",
     "output_type": "stream",
     "text": [
      "0          1.269735\n",
      "1          1.269735\n",
      "2          0.374573\n",
      "3          0.374573\n",
      "4          1.269735\n",
      "             ...   \n",
      "1000204    1.269735\n",
      "1000205   -0.520588\n",
      "1000206   -2.310911\n",
      "1000207    1.269735\n",
      "1000208    0.374573\n",
      "Name: rating, Length: 1000143, dtype: float64\n",
      "0         -2.445410\n",
      "1          2.234636\n",
      "2         -0.403208\n",
      "3         -0.403208\n",
      "4          1.724085\n",
      "             ...   \n",
      "1000204   -0.998850\n",
      "1000205    0.447709\n",
      "1000206   -0.998850\n",
      "1000207   -0.998850\n",
      "1000208   -0.403208\n",
      "Name: age, Length: 1000143, dtype: float64\n",
      "         rating   age\n",
      "2             4  25.0\n",
      "3             4  25.0\n",
      "4             5  50.0\n",
      "5             4  18.0\n",
      "7             5  25.0\n",
      "...         ...   ...\n",
      "1000203       3  45.0\n",
      "1000204       5  18.0\n",
      "1000205       3  35.0\n",
      "1000207       5  18.0\n",
      "1000208       4  25.0\n",
      "\n",
      "[881771 rows x 2 columns]\n",
      "\n",
      "Number of discarded outliers: 118372\n"
     ]
    }
   ],
   "source": [
    "rating= df_filtered['rating']\n",
    "age=df_filtered['age']\n",
    "rating_mean = df_filtered['rating'].mean()\n",
    "rating_std = df_filtered['rating'].std()\n",
    "age_mean = df_filtered['age'].mean()\n",
    "age_std = df_filtered['age'].std()\n",
    "\n",
    "z_scores_rating = (rating - rating_mean) / rating_std\n",
    "z_scores_age= (age - age_mean) / age_std\n",
    "\n",
    "print(z_scores_rating)\n",
    "print(z_scores_age)\n",
    "\n",
    "outlier_condition = (z_scores_rating > 2) | (z_scores_age > 2) | (z_scores_rating <= -2) | (z_scores_age <= -2)\n",
    "\n",
    "\n",
    "df_filtered1 = df_filtered[~outlier_condition]\n",
    "print(df_filtered1)\n",
    "\n",
    "\n",
    "num_discarded = len(df_filtered) - len(df_filtered1)\n",
    "print(\"\\nNumber of discarded outliers:\", num_discarded)\n",
    "\n",
    "#Q9. Number of rows discarded after applying outliers of Z > 2 or Z <= -2 and after removing blank values from\n",
    "# both column sets"
   ]
  },
  {
   "cell_type": "code",
   "execution_count": 141,
   "metadata": {},
   "outputs": [
    {
     "data": {
      "text/html": [
       "<div>\n",
       "<style scoped>\n",
       "    .dataframe tbody tr th:only-of-type {\n",
       "        vertical-align: middle;\n",
       "    }\n",
       "\n",
       "    .dataframe tbody tr th {\n",
       "        vertical-align: top;\n",
       "    }\n",
       "\n",
       "    .dataframe thead th {\n",
       "        text-align: right;\n",
       "    }\n",
       "</style>\n",
       "<table border=\"1\" class=\"dataframe\">\n",
       "  <thead>\n",
       "    <tr style=\"text-align: right;\">\n",
       "      <th></th>\n",
       "      <th>rating</th>\n",
       "      <th>date</th>\n",
       "    </tr>\n",
       "  </thead>\n",
       "  <tbody>\n",
       "    <tr>\n",
       "      <td>0</td>\n",
       "      <td>5</td>\n",
       "      <td>2000-12-31 22:12:40</td>\n",
       "    </tr>\n",
       "    <tr>\n",
       "      <td>1</td>\n",
       "      <td>5</td>\n",
       "      <td>2000-12-31 21:33:33</td>\n",
       "    </tr>\n",
       "    <tr>\n",
       "      <td>2</td>\n",
       "      <td>4</td>\n",
       "      <td>2000-12-30 23:49:39</td>\n",
       "    </tr>\n",
       "    <tr>\n",
       "      <td>3</td>\n",
       "      <td>4</td>\n",
       "      <td>2000-12-30 18:01:19</td>\n",
       "    </tr>\n",
       "    <tr>\n",
       "      <td>4</td>\n",
       "      <td>5</td>\n",
       "      <td>2000-12-30 06:41:11</td>\n",
       "    </tr>\n",
       "    <tr>\n",
       "      <td>5</td>\n",
       "      <td>4</td>\n",
       "      <td>2000-12-30 06:02:48</td>\n",
       "    </tr>\n",
       "    <tr>\n",
       "      <td>6</td>\n",
       "      <td>5</td>\n",
       "      <td>2001-02-21 04:48:56</td>\n",
       "    </tr>\n",
       "  </tbody>\n",
       "</table>\n",
       "</div>"
      ],
      "text/plain": [
       "   rating                date\n",
       "0       5 2000-12-31 22:12:40\n",
       "1       5 2000-12-31 21:33:33\n",
       "2       4 2000-12-30 23:49:39\n",
       "3       4 2000-12-30 18:01:19\n",
       "4       5 2000-12-30 06:41:11\n",
       "5       4 2000-12-30 06:02:48\n",
       "6       5 2001-02-21 04:48:56"
      ]
     },
     "execution_count": 141,
     "metadata": {},
     "output_type": "execute_result"
    }
   ],
   "source": [
    "columns_to_drop = ['user_id','movie_id', 'timestamp', 'gender', 'occupation', 'zip', 'title', 'genres', 'year','month','age']\n",
    "new_df1 = mlmdata.drop(columns_to_drop, axis=1)\n",
    "date= new_df1.set_index('date')\n",
    "new_df1.head(7)\n",
    "\n",
    "#Q10.  new dataframe that includes ‘rating’ and ‘date’ columns\n"
   ]
  },
  {
   "cell_type": "code",
   "execution_count": 142,
   "metadata": {},
   "outputs": [
    {
     "name": "stdout",
     "output_type": "stream",
     "text": [
      "   date    rating\n",
      "0  2000  3.590392\n",
      "1  2001  3.512254\n",
      "2  2002  3.458829\n",
      "3  2003  3.486559\n"
     ]
    }
   ],
   "source": [
    "average_ratings = new_df1.groupby(new_df1['date'].dt.year)['rating'].mean().reset_index()\n",
    "\n",
    "print(average_ratings)\n",
    "\n",
    "#Q10. Displaying the annual average ratings grouped by year\n",
    "#The average annual ratings dips slightly for 2001 and 2002 and starts increasing in 2003"
   ]
  },
  {
   "cell_type": "code",
   "execution_count": 149,
   "metadata": {},
   "outputs": [
    {
     "data": {
      "image/png": "[encoded data removed]",
      "text/plain": [
       "<Figure size 576x216 with 1 Axes>"
      ]
     },
     "metadata": {
      "needs_background": "light"
     },
     "output_type": "display_data"
    }
   ],
   "source": [
    "\n",
    "plt.figure(figsize=(8, 3)) \n",
    "plt.plot(average_ratings, marker='o', linestyle='-')\n",
    "plt.xlabel('Year')\n",
    "plt.ylabel('Average Rating')\n",
    "plt.title('Annual Average Ratings')\n",
    "plt.grid(True)\n",
    "\n",
    "plt.ylim(3, 5)\n",
    "\n",
    "plt.show()"
   ]
  },
  {
   "cell_type": "code",
   "execution_count": 147,
   "metadata": {},
   "outputs": [
    {
     "name": "stdout",
     "output_type": "stream",
     "text": [
      "(19.333, 37.667]    590\n",
      "(0.945, 19.333]     206\n",
      "(37.667, 56.0]      204\n",
      "Name: age, dtype: int64\n"
     ]
    }
   ],
   "source": [
    "new_df2 = mlmdata.dropna(subset=['age']).sample(n=1000, random_state=42)\n",
    "bins = pd.cut(new_df2[\"age\"], bins=3)\n",
    "bin_counts = bins.value_counts()\n",
    "print(bin_counts)\n",
    "\n",
    "#Q11. generating  three bins with equal width for the age column and observations in each bin"
   ]
  }
 ],
 "metadata": {
  "kernelspec": {
   "display_name": "Python 3",
   "language": "python",
   "name": "python3"
  },
  "language_info": {
   "codemirror_mode": {
    "name": "ipython",
    "version": 3
   },
   "file_extension": ".py",
   "mimetype": "text/x-python",
   "name": "python",
   "nbconvert_exporter": "python",
   "pygments_lexer": "ipython3",
   "version": "3.7.4"
  }
 },
 "nbformat": 4,
 "nbformat_minor": 2
}
