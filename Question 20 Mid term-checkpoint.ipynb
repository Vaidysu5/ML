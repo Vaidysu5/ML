{
 "cells": [
  {
   "cell_type": "code",
   "execution_count": 15,
   "metadata": {},
   "outputs": [],
   "source": [
    "def build_hash_tree(items, max_leaf_size):\n",
    "    \"\"\"\n",
    "    Constructs a hash tree from a list of items.\n",
    "\n",
    "    Args:\n",
    "        items (list): List of items in the data set.\n",
    "        max_leaf_size (int): Maximum number of items allowed in a leaf node.\n",
    "\n",
    "    Returns:\n",
    "        dict: Hash tree represented as a dictionary.\n",
    "    \"\"\"\n",
    "\n",
    "    if len(items) <= max_leaf_size:\n",
    "        return {'leaf': True, 'items': items}\n",
    "\n",
    "    queue = [{'items': items}]  # Use a queue to manage node creation\n",
    "    while queue:\n",
    "        current_node = queue.pop(0)\n",
    "        left_items = [item for item in current_node['items'] if item % 2 == 0]\n",
    "        right_items = [item for item in current_node['items'] if item % 2 == 1]\n",
    "        if left_items:\n",
    "            left_child = {'leaf': True if len(left_items) <= max_leaf_size else False, 'items': left_items}\n",
    "            current_node['left'] = left_child\n",
    "            if not left_child['leaf']:\n",
    "                queue.append(left_child)\n",
    "        if right_items:\n",
    "            right_child = {'leaf': True if len(right_items) <= max_leaf_size else False, 'items': right_items}\n",
    "            current_node['right'] = right_child\n",
    "            if not right_child['leaf']:\n",
    "                queue.append(right_child)\n",
    "    return current_node\n",
    "   "
   ]
  },
  {
   "cell_type": "code",
   "execution_count": 16,
   "metadata": {},
   "outputs": [],
   "source": [
    "def support_counting(hash_tree, transaction):\n",
    "    \"\"\"\n",
    "    Calculates the support (number of occurrences) of candidate itemsets in a transaction using a hash tree.\n",
    "\n",
    "    Args:\n",
    "        hash_tree (dict): Hash tree representing the data set.\n",
    "        transaction (list): List of items in the transaction.\n",
    "\n",
    "    Returns:\n",
    "        int: Number of supported candidate itemsets.\n",
    "    \"\"\"\n",
    "\n",
    "    count = 0\n",
    "    for item in transaction:\n",
    "        node = hash_tree\n",
    "\n",
    "        # Traverse the hash tree based on item's hash value\n",
    "        while not node.get('leaf'):\n",
    "            if item % 2 == 0:\n",
    "                node = node['left']\n",
    "            else:\n",
    "                node = node['right']\n",
    "\n",
    "        # Check if the transaction itemset is a subset of the leaf node items\n",
    "        if all(t in node['items'] for t in transaction):\n",
    "            count += 1\n",
    "\n",
    "    return count\n",
    "\n"
   ]
  },
  {
   "cell_type": "code",
   "execution_count": null,
   "metadata": {},
   "outputs": [],
   "source": [
    "# Create the hash tree\n",
    "items = [1, 2, 3, 4, 5, 6, 7, 8, 9]\n",
    "max_leaf_size = 4\n",
    "hash_tree = build_hash_tree(items, max_leaf_size)\n"
   ]
  },
  {
   "cell_type": "code",
   "execution_count": null,
   "metadata": {},
   "outputs": [],
   "source": [
    "transaction = [1, 5, 6, 7, 9]\n",
    "supported_itemsets = support_counting(hash_tree, transaction)\n",
    "print(f\"Number of supported candidate itemsets: {supported_itemsets}\")"
   ]
  }
 ],
 "metadata": {
  "kernelspec": {
   "display_name": "Python 3",
   "language": "python",
   "name": "python3"
  },
  "language_info": {
   "codemirror_mode": {
    "name": "ipython",
    "version": 3
   },
   "file_extension": ".py",
   "mimetype": "text/x-python",
   "name": "python",
   "nbconvert_exporter": "python",
   "pygments_lexer": "ipython3",
   "version": "3.7.4"
  }
 },
 "nbformat": 4,
 "nbformat_minor": 2
}
