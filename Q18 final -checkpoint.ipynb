{
 "cells": [
  {
   "cell_type": "code",
   "execution_count": 5,
   "metadata": {},
   "outputs": [
    {
     "name": "stdout",
     "output_type": "stream",
     "text": [
      "Gain Ratios:\n",
      "Small: 1.3702\n",
      "Extra Large: 1.5129\n",
      "Medium: 1.3702\n",
      "Large: 1.5129\n"
     ]
    }
   ],
   "source": [
    "from math import log2\n",
    "\n",
    "def calculate_gain_ratio(data):\n",
    "  \"\"\"\n",
    "  Calculates the gain ratio for a given dataset.\n",
    "\n",
    "  Args:\n",
    "      data: A list of lists representing the dataset. The first element in each sublist is the class label (C0 or C1), and the remaining elements are the feature values.\n",
    "\n",
    "  Returns:\n",
    "      A dictionary containing the gain ratio for each feature (shirt size in this case).\n",
    "  \"\"\"\n",
    "\n",
    "  # Calculate total entropy\n",
    "  total_entropy = 0\n",
    "  class_counts = {cls: 0 for cls in set(row[0] for row in data)}\n",
    "  for row in data:\n",
    "    class_counts[row[0]] += 1\n",
    "  for count in class_counts.values():\n",
    "    if count > 0:\n",
    "      total_entropy -= (count / len(data)) * log2(count / len(data))\n",
    "\n",
    "  # Calculate gain ratio for each shirt size\n",
    "  gain_ratios = {}\n",
    "  for size in set(row[1] for row in data):\n",
    "    subset_data = [row for row in data if row[1] == size]\n",
    "    subset_entropy = 0\n",
    "    subset_class_counts = {cls: 0 for cls in set(row[0] for row in subset_data)}\n",
    "    for row in subset_data:\n",
    "      subset_class_counts[row[0]] += 1\n",
    "    for count in subset_class_counts.values():\n",
    "      if count > 0:\n",
    "        subset_entropy -= (count / len(subset_data)) * log2(count / len(subset_data))\n",
    "\n",
    "    # Calculate intrinsic information (split information)\n",
    "    intrinsic_info = total_entropy - (len(subset_data) / len(data)) * subset_entropy\n",
    "    split_info = - (len(set(row[1] for row in data)) / len(data)) * log2(len(set(row[1] for row in data)) / len(data))\n",
    "\n",
    "    # Avoid division by zero (when a size has only one class)\n",
    "    if split_info > 0:\n",
    "      gain_ratios[size] = intrinsic_info / split_info\n",
    "    else:\n",
    "      gain_ratios[size] = 0\n",
    "\n",
    "  return gain_ratios\n",
    "\n",
    "# Q18 data\n",
    "data = [\n",
    "    [\"C0\", \"Extra Large\"],\n",
    "    [\"C1\", \"Extra Large\"],\n",
    "    [\"C0\", \"Large\"],\n",
    "    [\"C1\", \"Large\"],\n",
    "    [\"C0\", \"Medium\"],\n",
    "    [\"C1\", \"Medium\"],\n",
    "    [\"C0\", \"Medium\"],\n",
    "    [\"C1\", \"Small\"],\n",
    "    [\"C0\", \"Small\"],\n",
    "    [\"C1\", \"Small\"],\n",
    "]\n",
    "\n",
    "# Calculate and print gain ratios\n",
    "gain_ratios = calculate_gain_ratio(data)\n",
    "print(\"Gain Ratios:\")\n",
    "for size, ratio in gain_ratios.items():\n",
    "  print(f\"{size}: {ratio:.4f}\")"
   ]
  }
 ],
 "metadata": {
  "kernelspec": {
   "display_name": "Python 3",
   "language": "python",
   "name": "python3"
  },
  "language_info": {
   "codemirror_mode": {
    "name": "ipython",
    "version": 3
   },
   "file_extension": ".py",
   "mimetype": "text/x-python",
   "name": "python",
   "nbconvert_exporter": "python",
   "pygments_lexer": "ipython3",
   "version": "3.7.4"
  }
 },
 "nbformat": 4,
 "nbformat_minor": 2
}
